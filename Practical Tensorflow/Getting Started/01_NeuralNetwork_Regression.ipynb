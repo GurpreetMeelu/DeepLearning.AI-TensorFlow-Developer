{
 "cells": [
  {
   "cell_type": "markdown",
   "id": "005c4ec9-6c86-4b5f-8e56-7e33aa0b28c3",
   "metadata": {
    "jp-MarkdownHeadingCollapsed": true,
    "tags": []
   },
   "source": [
    "# Introduction to Regression with Neural Networks in Tensorflow"
   ]
  },
  {
   "cell_type": "code",
   "execution_count": 2,
   "id": "f191c671-7374-4881-ba85-04d9d1224798",
   "metadata": {
    "tags": []
   },
   "outputs": [],
   "source": [
    "import warnings\n",
    "warnings.filterwarnings('ignore')"
   ]
  },
  {
   "cell_type": "code",
   "execution_count": 3,
   "id": "450c2743-a05c-4852-bc78-22bd56cbcc7b",
   "metadata": {},
   "outputs": [
    {
     "name": "stderr",
     "output_type": "stream",
     "text": [
      "2022-03-08 14:43:37.448842: W tensorflow/stream_executor/platform/default/dso_loader.cc:64] Could not load dynamic library 'libcudart.so.11.0'; dlerror: libcudart.so.11.0: cannot open shared object file: No such file or directory\n",
      "2022-03-08 14:43:37.448882: I tensorflow/stream_executor/cuda/cudart_stub.cc:29] Ignore above cudart dlerror if you do not have a GPU set up on your machine.\n"
     ]
    },
    {
     "name": "stdout",
     "output_type": "stream",
     "text": [
      "2.8.0\n"
     ]
    }
   ],
   "source": [
    "import tensorflow as tf\n",
    "print(tf.__version__)"
   ]
  },
  {
   "cell_type": "markdown",
   "id": "89703887-c821-41ec-8512-94da162acb2a",
   "metadata": {
    "jp-MarkdownHeadingCollapsed": true,
    "tags": []
   },
   "source": [
    "# Creating data to view and fit"
   ]
  },
  {
   "cell_type": "code",
   "execution_count": 4,
   "id": "a21aa145-9a51-4a2b-850d-df256b21029c",
   "metadata": {},
   "outputs": [
    {
     "data": {
      "text/plain": [
       "<matplotlib.collections.PathCollection at 0x7f0d8c55aa00>"
      ]
     },
     "execution_count": 4,
     "metadata": {},
     "output_type": "execute_result"
    },
    {
     "data": {
      "image/png": "[encoded data removed]",
      "text/plain": [
       "<Figure size 432x288 with 1 Axes>"
      ]
     },
     "metadata": {
      "needs_background": "light"
     },
     "output_type": "display_data"
    }
   ],
   "source": [
    "import numpy as np\n",
    "import matplotlib.pyplot as plt\n",
    "%matplotlib inline\n",
    "\n",
    "X = np.array([-7.0, -4.0, -1.0, 2.0, 5.0, 8.0, 11.0, 14.0])\n",
    "\n",
    "y = np.array([3.0, 6.0, 9.0, 12.0, 15.0, 18.0, 21.0, 24.0])\n",
    "\n",
    "plt.scatter(X,y)"
   ]
  },
  {
   "cell_type": "code",
   "execution_count": 5,
   "id": "b3b6dfb7-cc08-44b3-9c71-527c5225476e",
   "metadata": {},
   "outputs": [
    {
     "data": {
      "text/plain": [
       "array([ True,  True,  True,  True,  True,  True,  True,  True])"
      ]
     },
     "execution_count": 5,
     "metadata": {},
     "output_type": "execute_result"
    }
   ],
   "source": [
    "y == X + 10"
   ]
  },
  {
   "cell_type": "markdown",
   "id": "2b031ed7-fc7d-4987-a591-bde813168490",
   "metadata": {
    "tags": []
   },
   "source": [
    "# Input and Output Shapes"
   ]
  },
  {
   "cell_type": "code",
   "execution_count": 6,
   "id": "ce7112c8-2a39-457b-90c8-ac111c3e89db",
   "metadata": {},
   "outputs": [
    {
     "name": "stderr",
     "output_type": "stream",
     "text": [
      "2022-03-08 14:43:42.404872: W tensorflow/stream_executor/platform/default/dso_loader.cc:64] Could not load dynamic library 'libcuda.so.1'; dlerror: libcuda.so.1: cannot open shared object file: No such file or directory\n",
      "2022-03-08 14:43:42.404908: W tensorflow/stream_executor/cuda/cuda_driver.cc:269] failed call to cuInit: UNKNOWN ERROR (303)\n",
      "2022-03-08 14:43:42.404935: I tensorflow/stream_executor/cuda/cuda_diagnostics.cc:156] kernel driver does not appear to be running on this host (default): /proc/driver/nvidia/version does not exist\n",
      "2022-03-08 14:43:42.408720: I tensorflow/core/platform/cpu_feature_guard.cc:151] This TensorFlow binary is optimized with oneAPI Deep Neural Network Library (oneDNN) to use the following CPU instructions in performance-critical operations:  AVX2 AVX512F FMA\n",
      "To enable them in other operations, rebuild TensorFlow with the appropriate compiler flags.\n"
     ]
    },
    {
     "data": {
      "text/plain": [
       "(<tf.Tensor: shape=(3,), dtype=string, numpy=array([b'bedroom', b'bathroom', b'garage'], dtype=object)>,\n",
       " <tf.Tensor: shape=(1,), dtype=int32, numpy=array([939700], dtype=int32)>)"
      ]
     },
     "execution_count": 6,
     "metadata": {},
     "output_type": "execute_result"
    }
   ],
   "source": [
    "# Create a demo tensor for our housing price predictions \n",
    "\n",
    "house_info = tf.constant(['bedroom','bathroom','garage'])\n",
    "house_price = tf.constant([939700])\n",
    "house_info, house_price"
   ]
  },
  {
   "cell_type": "code",
   "execution_count": 7,
   "id": "fd14a777-d114-4d45-9f1a-8bc7c4e92913",
   "metadata": {},
   "outputs": [
    {
     "data": {
      "text/plain": [
       "((), ())"
      ]
     },
     "execution_count": 7,
     "metadata": {},
     "output_type": "execute_result"
    }
   ],
   "source": [
    "input_shape = X[0].shape\n",
    "output_shape = y[0].shape\n",
    "\n",
    "input_shape,output_shape"
   ]
  },
  {
   "cell_type": "code",
   "execution_count": 8,
   "id": "b0c573ce-f8f9-4bd4-bd89-5d70572c8c2d",
   "metadata": {},
   "outputs": [
    {
     "data": {
      "text/plain": [
       "(<tf.Tensor: shape=(8,), dtype=float64, numpy=array([-7., -4., -1.,  2.,  5.,  8., 11., 14.])>,\n",
       " <tf.Tensor: shape=(8,), dtype=float64, numpy=array([ 3.,  6.,  9., 12., 15., 18., 21., 24.])>)"
      ]
     },
     "execution_count": 8,
     "metadata": {},
     "output_type": "execute_result"
    }
   ],
   "source": [
    "# Turn numpy arrays to tensors\n",
    "\n",
    "X = tf.constant(X)\n",
    "y = tf.constant(y)\n",
    "\n",
    "X, y"
   ]
  },
  {
   "cell_type": "code",
   "execution_count": 9,
   "id": "b19c2b10-42b7-42e8-be86-3599ad254cf5",
   "metadata": {},
   "outputs": [
    {
     "data": {
      "text/plain": [
       "(TensorShape([]), TensorShape([]))"
      ]
     },
     "execution_count": 9,
     "metadata": {},
     "output_type": "execute_result"
    }
   ],
   "source": [
    "input_shape = X[0].shape\n",
    "output_shape = y[0].shape\n",
    "\n",
    "input_shape, output_shape"
   ]
  },
  {
   "cell_type": "code",
   "execution_count": 10,
   "id": "5e95f2be-b650-49a1-acb6-c6a1ce995841",
   "metadata": {
    "tags": []
   },
   "outputs": [
    {
     "name": "stdout",
     "output_type": "stream",
     "text": [
      "Epoch 1/100\n",
      "1/1 [==============================] - 1s 635ms/step - loss: 12.3185 - mae: 12.3185\n",
      "Epoch 2/100\n",
      "1/1 [==============================] - 0s 5ms/step - loss: 11.4382 - mae: 11.4382\n",
      "Epoch 3/100\n",
      "1/1 [==============================] - 0s 4ms/step - loss: 10.5494 - mae: 10.5494\n",
      "Epoch 4/100\n",
      "1/1 [==============================] - 0s 3ms/step - loss: 9.7152 - mae: 9.7152\n",
      "Epoch 5/100\n",
      "1/1 [==============================] - 0s 3ms/step - loss: 9.0090 - mae: 9.0090\n",
      "Epoch 6/100\n",
      "1/1 [==============================] - 0s 3ms/step - loss: 8.2746 - mae: 8.2746\n",
      "Epoch 7/100\n",
      "1/1 [==============================] - 0s 9ms/step - loss: 7.5151 - mae: 7.5151\n",
      "Epoch 8/100\n",
      "1/1 [==============================] - 0s 4ms/step - loss: 6.7230 - mae: 6.7230\n",
      "Epoch 9/100\n",
      "1/1 [==============================] - 0s 5ms/step - loss: 5.8980 - mae: 5.8980\n",
      "Epoch 10/100\n",
      "1/1 [==============================] - 0s 5ms/step - loss: 5.0336 - mae: 5.0336\n",
      "Epoch 11/100\n",
      "1/1 [==============================] - 0s 5ms/step - loss: 4.1246 - mae: 4.1246\n",
      "Epoch 12/100\n",
      "1/1 [==============================] - 0s 4ms/step - loss: 3.7511 - mae: 3.7511\n",
      "Epoch 13/100\n",
      "1/1 [==============================] - 0s 6ms/step - loss: 3.9158 - mae: 3.9158\n",
      "Epoch 14/100\n",
      "1/1 [==============================] - 0s 5ms/step - loss: 4.1521 - mae: 4.1521\n",
      "Epoch 15/100\n",
      "1/1 [==============================] - 0s 4ms/step - loss: 4.5077 - mae: 4.5077\n",
      "Epoch 16/100\n",
      "1/1 [==============================] - 0s 4ms/step - loss: 4.7397 - mae: 4.7397\n",
      "Epoch 17/100\n",
      "1/1 [==============================] - 0s 4ms/step - loss: 4.8614 - mae: 4.8614\n",
      "Epoch 18/100\n",
      "1/1 [==============================] - 0s 4ms/step - loss: 4.8871 - mae: 4.8871\n",
      "Epoch 19/100\n",
      "1/1 [==============================] - 0s 5ms/step - loss: 4.8299 - mae: 4.8299\n",
      "Epoch 20/100\n",
      "1/1 [==============================] - 0s 14ms/step - loss: 4.7016 - mae: 4.7016\n",
      "Epoch 21/100\n",
      "1/1 [==============================] - 0s 4ms/step - loss: 4.5153 - mae: 4.5153\n",
      "Epoch 22/100\n",
      "1/1 [==============================] - 0s 4ms/step - loss: 4.2833 - mae: 4.2833\n",
      "Epoch 23/100\n",
      "1/1 [==============================] - 0s 5ms/step - loss: 4.0132 - mae: 4.0132\n",
      "Epoch 24/100\n",
      "1/1 [==============================] - 0s 4ms/step - loss: 3.7305 - mae: 3.7305\n",
      "Epoch 25/100\n",
      "1/1 [==============================] - 0s 4ms/step - loss: 3.6061 - mae: 3.6061\n",
      "Epoch 26/100\n",
      "1/1 [==============================] - 0s 3ms/step - loss: 3.4817 - mae: 3.4817\n",
      "Epoch 27/100\n",
      "1/1 [==============================] - 0s 4ms/step - loss: 3.3552 - mae: 3.3552\n",
      "Epoch 28/100\n",
      "1/1 [==============================] - 0s 4ms/step - loss: 3.3430 - mae: 3.3430\n",
      "Epoch 29/100\n",
      "1/1 [==============================] - 0s 6ms/step - loss: 3.3752 - mae: 3.3752\n",
      "Epoch 30/100\n",
      "1/1 [==============================] - 0s 6ms/step - loss: 3.3967 - mae: 3.3967\n",
      "Epoch 31/100\n",
      "1/1 [==============================] - 0s 5ms/step - loss: 3.3853 - mae: 3.3853\n",
      "Epoch 32/100\n",
      "1/1 [==============================] - 0s 4ms/step - loss: 3.3337 - mae: 3.3337\n",
      "Epoch 33/100\n",
      "1/1 [==============================] - 0s 4ms/step - loss: 3.2754 - mae: 3.2754\n",
      "Epoch 34/100\n",
      "1/1 [==============================] - 0s 14ms/step - loss: 3.1896 - mae: 3.1896\n",
      "Epoch 35/100\n",
      "1/1 [==============================] - 0s 4ms/step - loss: 3.0763 - mae: 3.0763\n",
      "Epoch 36/100\n",
      "1/1 [==============================] - 0s 5ms/step - loss: 2.9381 - mae: 2.9381\n",
      "Epoch 37/100\n",
      "1/1 [==============================] - 0s 3ms/step - loss: 2.8169 - mae: 2.8169\n",
      "Epoch 38/100\n",
      "1/1 [==============================] - 0s 3ms/step - loss: 2.7896 - mae: 2.7896\n",
      "Epoch 39/100\n",
      "1/1 [==============================] - 0s 3ms/step - loss: 2.7367 - mae: 2.7367\n",
      "Epoch 40/100\n",
      "1/1 [==============================] - 0s 6ms/step - loss: 2.7003 - mae: 2.7003\n",
      "Epoch 41/100\n",
      "1/1 [==============================] - 0s 4ms/step - loss: 2.5916 - mae: 2.5916\n",
      "Epoch 42/100\n",
      "1/1 [==============================] - 0s 3ms/step - loss: 2.4901 - mae: 2.4901\n",
      "Epoch 43/100\n",
      "1/1 [==============================] - 0s 3ms/step - loss: 2.3889 - mae: 2.3889\n",
      "Epoch 44/100\n",
      "1/1 [==============================] - 0s 3ms/step - loss: 2.2773 - mae: 2.2773\n",
      "Epoch 45/100\n",
      "1/1 [==============================] - 0s 3ms/step - loss: 2.1486 - mae: 2.1486\n",
      "Epoch 46/100\n",
      "1/1 [==============================] - 0s 3ms/step - loss: 2.0120 - mae: 2.0120\n",
      "Epoch 47/100\n",
      "1/1 [==============================] - 0s 20ms/step - loss: 1.8716 - mae: 1.8716\n",
      "Epoch 48/100\n",
      "1/1 [==============================] - 0s 7ms/step - loss: 1.8010 - mae: 1.8010\n",
      "Epoch 49/100\n",
      "1/1 [==============================] - 0s 6ms/step - loss: 1.6817 - mae: 1.6817\n",
      "Epoch 50/100\n",
      "1/1 [==============================] - 0s 6ms/step - loss: 1.4949 - mae: 1.4949\n",
      "Epoch 51/100\n",
      "1/1 [==============================] - 0s 4ms/step - loss: 1.3659 - mae: 1.3659\n",
      "Epoch 52/100\n",
      "1/1 [==============================] - 0s 5ms/step - loss: 1.2458 - mae: 1.2458\n",
      "Epoch 53/100\n",
      "1/1 [==============================] - 0s 5ms/step - loss: 1.1011 - mae: 1.1011\n",
      "Epoch 54/100\n",
      "1/1 [==============================] - 0s 5ms/step - loss: 0.9050 - mae: 0.9050\n",
      "Epoch 55/100\n",
      "1/1 [==============================] - 0s 7ms/step - loss: 0.7032 - mae: 0.7032\n",
      "Epoch 56/100\n",
      "1/1 [==============================] - 0s 4ms/step - loss: 0.4866 - mae: 0.4866\n",
      "Epoch 57/100\n",
      "1/1 [==============================] - 0s 3ms/step - loss: 0.3925 - mae: 0.3925\n",
      "Epoch 58/100\n",
      "1/1 [==============================] - 0s 4ms/step - loss: 0.2727 - mae: 0.2727\n",
      "Epoch 59/100\n",
      "1/1 [==============================] - 0s 9ms/step - loss: 0.2035 - mae: 0.2035\n",
      "Epoch 60/100\n",
      "1/1 [==============================] - 0s 5ms/step - loss: 0.4177 - mae: 0.4177\n",
      "Epoch 61/100\n",
      "1/1 [==============================] - 0s 6ms/step - loss: 0.3904 - mae: 0.3904\n",
      "Epoch 62/100\n",
      "1/1 [==============================] - 0s 7ms/step - loss: 0.4483 - mae: 0.4483\n",
      "Epoch 63/100\n",
      "1/1 [==============================] - 0s 5ms/step - loss: 0.4128 - mae: 0.4128\n",
      "Epoch 64/100\n",
      "1/1 [==============================] - 0s 5ms/step - loss: 0.5029 - mae: 0.5029\n",
      "Epoch 65/100\n",
      "1/1 [==============================] - 0s 6ms/step - loss: 0.4210 - mae: 0.4210\n",
      "Epoch 66/100\n",
      "1/1 [==============================] - 0s 5ms/step - loss: 0.4623 - mae: 0.4623\n",
      "Epoch 67/100\n",
      "1/1 [==============================] - 0s 5ms/step - loss: 0.3584 - mae: 0.3584\n",
      "Epoch 68/100\n",
      "1/1 [==============================] - 0s 5ms/step - loss: 0.3169 - mae: 0.3169\n",
      "Epoch 69/100\n",
      "1/1 [==============================] - 0s 5ms/step - loss: 0.2630 - mae: 0.2630\n",
      "Epoch 70/100\n",
      "1/1 [==============================] - 0s 5ms/step - loss: 0.2135 - mae: 0.2135\n",
      "Epoch 71/100\n",
      "1/1 [==============================] - 0s 5ms/step - loss: 0.1765 - mae: 0.1765\n",
      "Epoch 72/100\n",
      "1/1 [==============================] - 0s 5ms/step - loss: 0.3350 - mae: 0.3350\n",
      "Epoch 73/100\n",
      "1/1 [==============================] - 0s 5ms/step - loss: 0.3267 - mae: 0.3267\n",
      "Epoch 74/100\n",
      "1/1 [==============================] - 0s 3ms/step - loss: 0.1933 - mae: 0.1933\n",
      "Epoch 75/100\n",
      "1/1 [==============================] - 0s 9ms/step - loss: 0.2845 - mae: 0.2845\n",
      "Epoch 76/100\n",
      "1/1 [==============================] - 0s 6ms/step - loss: 0.1706 - mae: 0.1706\n",
      "Epoch 77/100\n",
      "1/1 [==============================] - 0s 4ms/step - loss: 0.1886 - mae: 0.1886\n",
      "Epoch 78/100\n",
      "1/1 [==============================] - 0s 5ms/step - loss: 0.2379 - mae: 0.2379\n",
      "Epoch 79/100\n",
      "1/1 [==============================] - 0s 5ms/step - loss: 0.2396 - mae: 0.2396\n",
      "Epoch 80/100\n",
      "1/1 [==============================] - 0s 9ms/step - loss: 0.2633 - mae: 0.2633\n",
      "Epoch 81/100\n",
      "1/1 [==============================] - 0s 4ms/step - loss: 0.1766 - mae: 0.1766\n",
      "Epoch 82/100\n",
      "1/1 [==============================] - 0s 8ms/step - loss: 0.2349 - mae: 0.2349\n",
      "Epoch 83/100\n",
      "1/1 [==============================] - 0s 23ms/step - loss: 0.1657 - mae: 0.1657\n",
      "Epoch 84/100\n",
      "1/1 [==============================] - 0s 7ms/step - loss: 0.2313 - mae: 0.2313\n",
      "Epoch 85/100\n",
      "1/1 [==============================] - 0s 6ms/step - loss: 0.1406 - mae: 0.1406\n",
      "Epoch 86/100\n",
      "1/1 [==============================] - 0s 4ms/step - loss: 0.2704 - mae: 0.2704\n",
      "Epoch 87/100\n",
      "1/1 [==============================] - 0s 4ms/step - loss: 0.2625 - mae: 0.2625\n",
      "Epoch 88/100\n",
      "1/1 [==============================] - 0s 11ms/step - loss: 0.1244 - mae: 0.1244\n",
      "Epoch 89/100\n",
      "1/1 [==============================] - 0s 9ms/step - loss: 0.2429 - mae: 0.2429\n",
      "Epoch 90/100\n",
      "1/1 [==============================] - 0s 6ms/step - loss: 0.1039 - mae: 0.1039\n",
      "Epoch 91/100\n",
      "1/1 [==============================] - 0s 6ms/step - loss: 0.3054 - mae: 0.3054\n",
      "Epoch 92/100\n",
      "1/1 [==============================] - 0s 5ms/step - loss: 0.2531 - mae: 0.2531\n",
      "Epoch 93/100\n",
      "1/1 [==============================] - 0s 10ms/step - loss: 0.1150 - mae: 0.1150\n",
      "Epoch 94/100\n",
      "1/1 [==============================] - 0s 5ms/step - loss: 0.0968 - mae: 0.0968\n",
      "Epoch 95/100\n",
      "1/1 [==============================] - 0s 7ms/step - loss: 0.1926 - mae: 0.1926\n",
      "Epoch 96/100\n",
      "1/1 [==============================] - 0s 4ms/step - loss: 0.0905 - mae: 0.0905\n",
      "Epoch 97/100\n",
      "1/1 [==============================] - 0s 4ms/step - loss: 0.3329 - mae: 0.3329\n",
      "Epoch 98/100\n",
      "1/1 [==============================] - 0s 5ms/step - loss: 0.3907 - mae: 0.3907\n",
      "Epoch 99/100\n",
      "1/1 [==============================] - 0s 5ms/step - loss: 0.2052 - mae: 0.2052\n",
      "Epoch 100/100\n",
      "1/1 [==============================] - 0s 9ms/step - loss: 0.3052 - mae: 0.3052\n"
     ]
    },
    {
     "data": {
      "text/plain": [
       "<keras.callbacks.History at 0x7f0d8035cac0>"
      ]
     },
     "execution_count": 10,
     "metadata": {},
     "output_type": "execute_result"
    }
   ],
   "source": [
    "# Set random seed\n",
    "tf.random.set_seed(42)\n",
    "\n",
    "# 1. Create a model\n",
    "model = tf.keras.Sequential([\n",
    "    tf.keras.layers.Dense(100, activation = 'relu'),\n",
    "    tf.keras.layers.Dense(1)\n",
    "])\n",
    "\n",
    "# 2. Compile the model\n",
    "model.compile(loss = tf.keras.losses.mae, optimizer = tf.keras.optimizers.Adam(lr = 0.01), metrics=['mae'])\n",
    "\n",
    "# 3. Fit the model\n",
    "#model.fit(X,y, epochs = 5)\n",
    "model.fit(tf.expand_dims(X, axis=-1), y, epochs=100) "
   ]
  },
  {
   "cell_type": "code",
   "execution_count": 11,
   "id": "3427fbd3-cce0-4432-8550-8c3a200b4be5",
   "metadata": {},
   "outputs": [
    {
     "data": {
      "text/plain": [
       "array([[26.206875]], dtype=float32)"
      ]
     },
     "execution_count": 11,
     "metadata": {},
     "output_type": "execute_result"
    }
   ],
   "source": [
    "y_pred = model.predict([17])\n",
    "y_pred"
   ]
  },
  {
   "cell_type": "markdown",
   "id": "db6dab3a-28ec-4972-a719-2cb038b40bc2",
   "metadata": {
    "tags": []
   },
   "source": [
    "# Evalueate the Model"
   ]
  },
  {
   "cell_type": "code",
   "execution_count": 12,
   "id": "f53626cc-0ec8-410d-ba3f-dd803edd827b",
   "metadata": {},
   "outputs": [
    {
     "data": {
      "text/plain": [
       "(<tf.Tensor: shape=(50,), dtype=int32, numpy=\n",
       " array([-100,  -96,  -92,  -88,  -84,  -80,  -76,  -72,  -68,  -64,  -60,\n",
       "         -56,  -52,  -48,  -44,  -40,  -36,  -32,  -28,  -24,  -20,  -16,\n",
       "         -12,   -8,   -4,    0,    4,    8,   12,   16,   20,   24,   28,\n",
       "          32,   36,   40,   44,   48,   52,   56,   60,   64,   68,   72,\n",
       "          76,   80,   84,   88,   92,   96], dtype=int32)>,\n",
       " <tf.Tensor: shape=(50,), dtype=int32, numpy=\n",
       " array([-90, -86, -82, -78, -74, -70, -66, -62, -58, -54, -50, -46, -42,\n",
       "        -38, -34, -30, -26, -22, -18, -14, -10,  -6,  -2,   2,   6,  10,\n",
       "         14,  18,  22,  26,  30,  34,  38,  42,  46,  50,  54,  58,  62,\n",
       "         66,  70,  74,  78,  82,  86,  90,  94,  98, 102, 106], dtype=int32)>)"
      ]
     },
     "execution_count": 12,
     "metadata": {},
     "output_type": "execute_result"
    }
   ],
   "source": [
    "X = tf.range(-100,100,4)\n",
    "y = X + 10\n",
    "X, y"
   ]
  },
  {
   "cell_type": "code",
   "execution_count": 13,
   "id": "698eb965-7fba-413c-bc5e-089e8a3468f5",
   "metadata": {},
   "outputs": [
    {
     "data": {
      "text/plain": [
       "<matplotlib.collections.PathCollection at 0x7f0d7f0c3e80>"
      ]
     },
     "execution_count": 13,
     "metadata": {},
     "output_type": "execute_result"
    },
    {
     "data": {
      "image/png": "[encoded data removed]",
      "text/plain": [
       "<Figure size 432x288 with 1 Axes>"
      ]
     },
     "metadata": {
      "needs_background": "light"
     },
     "output_type": "display_data"
    }
   ],
   "source": [
    "plt.scatter(X,y)"
   ]
  },
  {
   "cell_type": "code",
   "execution_count": 14,
   "id": "e210fbe8-5723-4b55-84a1-6ea4eadff542",
   "metadata": {},
   "outputs": [
    {
     "data": {
      "text/plain": [
       "50"
      ]
     },
     "execution_count": 14,
     "metadata": {},
     "output_type": "execute_result"
    }
   ],
   "source": [
    "# Check the lenghth of how many samples\n",
    "len(X)"
   ]
  },
  {
   "cell_type": "code",
   "execution_count": 15,
   "id": "9638e6fb-c873-428f-a1a9-1d9a2b54cdc1",
   "metadata": {},
   "outputs": [
    {
     "data": {
      "text/plain": [
       "(40, 10)"
      ]
     },
     "execution_count": 15,
     "metadata": {},
     "output_type": "execute_result"
    }
   ],
   "source": [
    "# Split the data into train and test sets\n",
    "X_train = X[:40]\n",
    "y_train = y[:40]\n",
    "\n",
    "X_test = X[40:]\n",
    "y_test = y[40:]\n",
    "\n",
    "len(X_train), len(X_test)"
   ]
  },
  {
   "cell_type": "code",
   "execution_count": 16,
   "id": "9c85c608-89de-42c6-a880-554de4772ea6",
   "metadata": {},
   "outputs": [
    {
     "data": {
      "image/png": "[encoded data removed]",
      "text/plain": [
       "<Figure size 720x504 with 1 Axes>"
      ]
     },
     "metadata": {
      "needs_background": "light"
     },
     "output_type": "display_data"
    }
   ],
   "source": [
    "## Visulise the data in training and test sets\n",
    "\n",
    "plt.figure(figsize = (10,7))\n",
    "plt.scatter(X_train,y_train, c = 'b', label = \"Training Data\")\n",
    "plt.scatter(X_test, y_test, c = 'r',label = 'Test Data')\n",
    "plt.legend()\n",
    "plt.show()"
   ]
  },
  {
   "cell_type": "code",
   "execution_count": 28,
   "id": "82716aab-cd1f-44da-9dbe-a6db0978035e",
   "metadata": {
    "collapsed": true,
    "jupyter": {
     "outputs_hidden": true
    },
    "tags": []
   },
   "outputs": [
    {
     "name": "stdout",
     "output_type": "stream",
     "text": [
      "Epoch 1/100\n",
      "2/2 [==============================] - 0s 4ms/step - loss: 7.4494 - mae: 7.4494\n",
      "Epoch 2/100\n",
      "2/2 [==============================] - 0s 3ms/step - loss: 9.2391 - mae: 9.2391\n",
      "Epoch 3/100\n",
      "2/2 [==============================] - 0s 2ms/step - loss: 9.6116 - mae: 9.6116\n",
      "Epoch 4/100\n",
      "2/2 [==============================] - 0s 2ms/step - loss: 8.7602 - mae: 8.7602\n",
      "Epoch 5/100\n",
      "2/2 [==============================] - 0s 4ms/step - loss: 9.7251 - mae: 9.7251\n",
      "Epoch 6/100\n",
      "2/2 [==============================] - 0s 6ms/step - loss: 8.9002 - mae: 8.9002\n",
      "Epoch 7/100\n",
      "2/2 [==============================] - 0s 4ms/step - loss: 8.0002 - mae: 8.0002\n",
      "Epoch 8/100\n",
      "2/2 [==============================] - 0s 3ms/step - loss: 8.1138 - mae: 8.1138\n",
      "Epoch 9/100\n",
      "2/2 [==============================] - 0s 2ms/step - loss: 19.0986 - mae: 19.0986\n",
      "Epoch 10/100\n",
      "2/2 [==============================] - 0s 2ms/step - loss: 9.3698 - mae: 9.3698\n",
      "Epoch 11/100\n",
      "2/2 [==============================] - 0s 3ms/step - loss: 7.5493 - mae: 7.5493\n",
      "Epoch 12/100\n",
      "2/2 [==============================] - 0s 2ms/step - loss: 9.8866 - mae: 9.8866\n",
      "Epoch 13/100\n",
      "2/2 [==============================] - 0s 2ms/step - loss: 8.9273 - mae: 8.9273\n",
      "Epoch 14/100\n",
      "2/2 [==============================] - 0s 3ms/step - loss: 10.9891 - mae: 10.9891\n",
      "Epoch 15/100\n",
      "2/2 [==============================] - 0s 2ms/step - loss: 12.6094 - mae: 12.6094\n",
      "Epoch 16/100\n",
      "2/2 [==============================] - 0s 2ms/step - loss: 6.4175 - mae: 6.4175\n",
      "Epoch 17/100\n",
      "2/2 [==============================] - 0s 3ms/step - loss: 7.6479 - mae: 7.6479\n",
      "Epoch 18/100\n",
      "2/2 [==============================] - 0s 3ms/step - loss: 10.2152 - mae: 10.2152\n",
      "Epoch 19/100\n",
      "2/2 [==============================] - 0s 2ms/step - loss: 18.3227 - mae: 18.3227\n",
      "Epoch 20/100\n",
      "2/2 [==============================] - 0s 2ms/step - loss: 15.0241 - mae: 15.0241\n",
      "Epoch 21/100\n",
      "2/2 [==============================] - 0s 2ms/step - loss: 10.5285 - mae: 10.5285\n",
      "Epoch 22/100\n",
      "2/2 [==============================] - 0s 2ms/step - loss: 7.0450 - mae: 7.0450\n",
      "Epoch 23/100\n",
      "2/2 [==============================] - 0s 2ms/step - loss: 8.7253 - mae: 8.7253\n",
      "Epoch 24/100\n",
      "2/2 [==============================] - 0s 2ms/step - loss: 7.5994 - mae: 7.5994\n",
      "Epoch 25/100\n",
      "2/2 [==============================] - 0s 2ms/step - loss: 10.1121 - mae: 10.1121\n",
      "Epoch 26/100\n",
      "2/2 [==============================] - 0s 3ms/step - loss: 16.3869 - mae: 16.3869\n",
      "Epoch 27/100\n",
      "2/2 [==============================] - 0s 2ms/step - loss: 12.5856 - mae: 12.5856\n",
      "Epoch 28/100\n",
      "2/2 [==============================] - 0s 2ms/step - loss: 13.7632 - mae: 13.7632\n",
      "Epoch 29/100\n",
      "2/2 [==============================] - 0s 3ms/step - loss: 9.0995 - mae: 9.0995\n",
      "Epoch 30/100\n",
      "2/2 [==============================] - 0s 2ms/step - loss: 15.4324 - mae: 15.4324\n",
      "Epoch 31/100\n",
      "2/2 [==============================] - 0s 2ms/step - loss: 23.7275 - mae: 23.7275\n",
      "Epoch 32/100\n",
      "2/2 [==============================] - 0s 5ms/step - loss: 6.6583 - mae: 6.6583\n",
      "Epoch 33/100\n",
      "2/2 [==============================] - 0s 3ms/step - loss: 9.3521 - mae: 9.3521\n",
      "Epoch 34/100\n",
      "2/2 [==============================] - 0s 3ms/step - loss: 8.9275 - mae: 8.9275\n",
      "Epoch 35/100\n",
      "2/2 [==============================] - 0s 3ms/step - loss: 7.0428 - mae: 7.0428\n",
      "Epoch 36/100\n",
      "2/2 [==============================] - 0s 3ms/step - loss: 8.9966 - mae: 8.9966\n",
      "Epoch 37/100\n",
      "2/2 [==============================] - 0s 3ms/step - loss: 8.7731 - mae: 8.7731\n",
      "Epoch 38/100\n",
      "2/2 [==============================] - 0s 3ms/step - loss: 9.5648 - mae: 9.5648\n",
      "Epoch 39/100\n",
      "2/2 [==============================] - 0s 2ms/step - loss: 15.0424 - mae: 15.0424\n",
      "Epoch 40/100\n",
      "2/2 [==============================] - 0s 3ms/step - loss: 12.7918 - mae: 12.7918\n",
      "Epoch 41/100\n",
      "2/2 [==============================] - 0s 2ms/step - loss: 8.5636 - mae: 8.5636\n",
      "Epoch 42/100\n",
      "2/2 [==============================] - 0s 4ms/step - loss: 10.4069 - mae: 10.4069\n",
      "Epoch 43/100\n",
      "2/2 [==============================] - 0s 3ms/step - loss: 10.9575 - mae: 10.9575\n",
      "Epoch 44/100\n",
      "2/2 [==============================] - 0s 3ms/step - loss: 15.4550 - mae: 15.4550\n",
      "Epoch 45/100\n",
      "2/2 [==============================] - 0s 3ms/step - loss: 11.1913 - mae: 11.1913\n",
      "Epoch 46/100\n",
      "2/2 [==============================] - 0s 3ms/step - loss: 6.3175 - mae: 6.3175\n",
      "Epoch 47/100\n",
      "2/2 [==============================] - 0s 2ms/step - loss: 8.4750 - mae: 8.4750\n",
      "Epoch 48/100\n",
      "2/2 [==============================] - 0s 2ms/step - loss: 8.0104 - mae: 8.0104\n",
      "Epoch 49/100\n",
      "2/2 [==============================] - 0s 3ms/step - loss: 6.8868 - mae: 6.8868\n",
      "Epoch 50/100\n",
      "2/2 [==============================] - 0s 3ms/step - loss: 8.6688 - mae: 8.6688\n",
      "Epoch 51/100\n",
      "2/2 [==============================] - 0s 2ms/step - loss: 8.6195 - mae: 8.6195\n",
      "Epoch 52/100\n",
      "2/2 [==============================] - 0s 2ms/step - loss: 10.3668 - mae: 10.3668\n",
      "Epoch 53/100\n",
      "2/2 [==============================] - 0s 3ms/step - loss: 11.7298 - mae: 11.7298\n",
      "Epoch 54/100\n",
      "2/2 [==============================] - 0s 2ms/step - loss: 17.4147 - mae: 17.4147\n",
      "Epoch 55/100\n",
      "2/2 [==============================] - 0s 3ms/step - loss: 15.1775 - mae: 15.1775\n",
      "Epoch 56/100\n",
      "2/2 [==============================] - 0s 3ms/step - loss: 10.3830 - mae: 10.3830\n",
      "Epoch 57/100\n",
      "2/2 [==============================] - 0s 8ms/step - loss: 8.7312 - mae: 8.7312\n",
      "Epoch 58/100\n",
      "2/2 [==============================] - 0s 5ms/step - loss: 8.0396 - mae: 8.0396\n",
      "Epoch 59/100\n",
      "2/2 [==============================] - 0s 8ms/step - loss: 9.2555 - mae: 9.2555\n",
      "Epoch 60/100\n",
      "2/2 [==============================] - 0s 5ms/step - loss: 7.4949 - mae: 7.4949\n",
      "Epoch 61/100\n",
      "2/2 [==============================] - 0s 2ms/step - loss: 8.3574 - mae: 8.3574\n",
      "Epoch 62/100\n",
      "2/2 [==============================] - 0s 3ms/step - loss: 6.3038 - mae: 6.3038\n",
      "Epoch 63/100\n",
      "2/2 [==============================] - 0s 3ms/step - loss: 7.2954 - mae: 7.2954\n",
      "Epoch 64/100\n",
      "2/2 [==============================] - 0s 2ms/step - loss: 12.0381 - mae: 12.0381\n",
      "Epoch 65/100\n",
      "2/2 [==============================] - 0s 2ms/step - loss: 9.1088 - mae: 9.1088\n",
      "Epoch 66/100\n",
      "2/2 [==============================] - 0s 3ms/step - loss: 15.5762 - mae: 15.5762\n",
      "Epoch 67/100\n",
      "2/2 [==============================] - 0s 2ms/step - loss: 9.4988 - mae: 9.4988\n",
      "Epoch 68/100\n",
      "2/2 [==============================] - 0s 3ms/step - loss: 7.3459 - mae: 7.3459\n",
      "Epoch 69/100\n",
      "2/2 [==============================] - 0s 3ms/step - loss: 13.3723 - mae: 13.3723\n",
      "Epoch 70/100\n",
      "2/2 [==============================] - 0s 2ms/step - loss: 6.1456 - mae: 6.1456\n",
      "Epoch 71/100\n",
      "2/2 [==============================] - 0s 2ms/step - loss: 12.7084 - mae: 12.7084\n",
      "Epoch 72/100\n",
      "2/2 [==============================] - 0s 3ms/step - loss: 8.6625 - mae: 8.6625\n",
      "Epoch 73/100\n",
      "2/2 [==============================] - 0s 2ms/step - loss: 10.7664 - mae: 10.7664\n",
      "Epoch 74/100\n",
      "2/2 [==============================] - 0s 2ms/step - loss: 11.6373 - mae: 11.6373\n",
      "Epoch 75/100\n",
      "2/2 [==============================] - 0s 2ms/step - loss: 6.3771 - mae: 6.3771\n",
      "Epoch 76/100\n",
      "2/2 [==============================] - 0s 3ms/step - loss: 10.1117 - mae: 10.1117\n",
      "Epoch 77/100\n",
      "2/2 [==============================] - 0s 5ms/step - loss: 10.0869 - mae: 10.0869\n",
      "Epoch 78/100\n",
      "2/2 [==============================] - 0s 7ms/step - loss: 11.7024 - mae: 11.7024\n",
      "Epoch 79/100\n",
      "2/2 [==============================] - 0s 8ms/step - loss: 14.6771 - mae: 14.6771\n",
      "Epoch 80/100\n",
      "2/2 [==============================] - 0s 4ms/step - loss: 11.0129 - mae: 11.0129\n",
      "Epoch 81/100\n",
      "2/2 [==============================] - 0s 5ms/step - loss: 10.1555 - mae: 10.1555\n",
      "Epoch 82/100\n",
      "2/2 [==============================] - 0s 2ms/step - loss: 7.1339 - mae: 7.1339\n",
      "Epoch 83/100\n",
      "2/2 [==============================] - 0s 3ms/step - loss: 8.0773 - mae: 8.0773\n",
      "Epoch 84/100\n",
      "2/2 [==============================] - 0s 3ms/step - loss: 6.7051 - mae: 6.7051\n",
      "Epoch 85/100\n",
      "2/2 [==============================] - 0s 6ms/step - loss: 16.1770 - mae: 16.1770\n",
      "Epoch 86/100\n",
      "2/2 [==============================] - 0s 8ms/step - loss: 11.5961 - mae: 11.5961\n",
      "Epoch 87/100\n",
      "2/2 [==============================] - 0s 3ms/step - loss: 11.4826 - mae: 11.4826\n",
      "Epoch 88/100\n",
      "2/2 [==============================] - 0s 2ms/step - loss: 9.5591 - mae: 9.5591\n",
      "Epoch 89/100\n",
      "2/2 [==============================] - 0s 2ms/step - loss: 6.0280 - mae: 6.0280\n",
      "Epoch 90/100\n",
      "2/2 [==============================] - 0s 2ms/step - loss: 12.9257 - mae: 12.9257\n",
      "Epoch 91/100\n",
      "2/2 [==============================] - 0s 2ms/step - loss: 6.8810 - mae: 6.8810\n",
      "Epoch 92/100\n",
      "2/2 [==============================] - 0s 3ms/step - loss: 7.1209 - mae: 7.1209\n",
      "Epoch 93/100\n",
      "2/2 [==============================] - 0s 3ms/step - loss: 8.5510 - mae: 8.5510\n",
      "Epoch 94/100\n",
      "2/2 [==============================] - 0s 3ms/step - loss: 7.8979 - mae: 7.8979\n",
      "Epoch 95/100\n",
      "2/2 [==============================] - 0s 11ms/step - loss: 11.3865 - mae: 11.3865\n",
      "Epoch 96/100\n",
      "2/2 [==============================] - 0s 2ms/step - loss: 8.4120 - mae: 8.4120\n",
      "Epoch 97/100\n",
      "2/2 [==============================] - 0s 3ms/step - loss: 12.1666 - mae: 12.1666\n",
      "Epoch 98/100\n",
      "2/2 [==============================] - 0s 2ms/step - loss: 7.4770 - mae: 7.4770\n",
      "Epoch 99/100\n",
      "2/2 [==============================] - 0s 3ms/step - loss: 8.2216 - mae: 8.2216\n",
      "Epoch 100/100\n",
      "2/2 [==============================] - 0s 2ms/step - loss: 9.6944 - mae: 9.6944\n"
     ]
    },
    {
     "data": {
      "text/plain": [
       "<keras.callbacks.History at 0x7f0d7c0b1130>"
      ]
     },
     "execution_count": 28,
     "metadata": {},
     "output_type": "execute_result"
    }
   ],
   "source": [
    "tf.random.set_seed(42)\n",
    "\n",
    "model_1 = tf.keras.Sequential([\n",
    "    tf.keras.layers.Dense(1, input_shape = [1])\n",
    "])\n",
    "\n",
    "model_1.compile(loss = tf.keras.losses.mae, optimizer = tf.keras.optimizers.SGD(), metrics=['mae'])\n",
    "model_2.fit(tf.expand_dims(X_train,-1), y_train, epochs = 100)"
   ]
  },
  {
   "cell_type": "code",
   "execution_count": 29,
   "id": "8668232b-5b76-4f82-914c-c69a03f0096e",
   "metadata": {
    "tags": []
   },
   "outputs": [
    {
     "name": "stdout",
     "output_type": "stream",
     "text": [
      "Model: \"sequential_2\"\n",
      "_________________________________________________________________\n",
      " Layer (type)                Output Shape              Param #   \n",
      "=================================================================\n",
      " dense_3 (Dense)             (None, 1)                 2         \n",
      "                                                                 \n",
      "=================================================================\n",
      "Total params: 2\n",
      "Trainable params: 2\n",
      "Non-trainable params: 0\n",
      "_________________________________________________________________\n"
     ]
    }
   ],
   "source": [
    "model_1.summary()"
   ]
  },
  {
   "cell_type": "markdown",
   "id": "73722b87-d368-4a61-9605-cb999f9db357",
   "metadata": {
    "tags": []
   },
   "source": [
    "# Visualizing the Predictions"
   ]
  },
  {
   "cell_type": "code",
   "execution_count": 35,
   "id": "e8dffce6-9ed2-4cce-857d-f376611880c0",
   "metadata": {},
   "outputs": [],
   "source": [
    "y_preds_1 = model_1.predict(X_test)"
   ]
  },
  {
   "cell_type": "code",
   "execution_count": 36,
   "id": "8a4a35b2-33aa-41b5-bea2-2451e39eba57",
   "metadata": {},
   "outputs": [
    {
     "data": {
      "text/plain": [
       "array([[34.203594],\n",
       "       [36.483833],\n",
       "       [38.764072],\n",
       "       [41.04431 ],\n",
       "       [43.32455 ],\n",
       "       [45.60479 ],\n",
       "       [47.885033],\n",
       "       [50.16527 ],\n",
       "       [52.44551 ],\n",
       "       [54.72575 ]], dtype=float32)"
      ]
     },
     "execution_count": 36,
     "metadata": {},
     "output_type": "execute_result"
    }
   ],
   "source": [
    "y_preds_1"
   ]
  },
  {
   "cell_type": "code",
   "execution_count": 32,
   "id": "462073de-9db4-433f-8641-9947bb076cb7",
   "metadata": {},
   "outputs": [],
   "source": [
    "def plot_predictions(train_data = X_train,\n",
    "                    train_labels = y_train,\n",
    "                    test_data = X_test,\n",
    "                    test_labels = y_test,\n",
    "                    predictions = y_preds):\n",
    "\n",
    "# Plot training data, test data  and compare prediction.\n",
    "\n",
    "\n",
    "    plt.figure(figsize = (10,7))\n",
    "    plt.scatter(train_data, train_labels, c = 'b', label = \"Training Data\")\n",
    "    plt.scatter(test_data, test_labels, c = \"g\", label = \"Testing Data\")\n",
    "    plt.scatter(test_data, predictions, c = 'r', label = \"Predictions\")\n",
    "    plt.legend()"
   ]
  },
  {
   "cell_type": "code",
   "execution_count": 33,
   "id": "d24c4160-3fab-4780-b7eb-c0c1d8540238",
   "metadata": {},
   "outputs": [
    {
     "data": {
      "image/png": "[encoded data removed]",
      "text/plain": [
       "<Figure size 720x504 with 1 Axes>"
      ]
     },
     "metadata": {
      "needs_background": "light"
     },
     "output_type": "display_data"
    }
   ],
   "source": [
    "plot_predictions(train_data=X_train,\n",
    "                 train_labels=y_train,\n",
    "                 test_data=X_test,\n",
    "                 test_labels=y_test,\n",
    "                 predictions=y_preds)"
   ]
  },
  {
   "cell_type": "code",
   "execution_count": 34,
   "id": "b4318fe0-6d24-40b0-8671-b23f00f733a5",
   "metadata": {},
   "outputs": [
    {
     "name": "stdout",
     "output_type": "stream",
     "text": [
      "1/1 [==============================] - 0s 330ms/step - loss: 43.5353 - mae: 43.5353\n"
     ]
    },
    {
     "data": {
      "text/plain": [
       "[43.53532791137695, 43.53532791137695]"
      ]
     },
     "execution_count": 34,
     "metadata": {},
     "output_type": "execute_result"
    }
   ],
   "source": [
    "model_1.evaluate(X_test, y_test)"
   ]
  },
  {
   "cell_type": "code",
   "execution_count": 45,
   "id": "c33825a7-e17e-4b54-831b-87dce8e0297a",
   "metadata": {},
   "outputs": [],
   "source": [
    "def mae(y_test, y_pred):\n",
    "    return tf.metrics.mean_absolute_error(y_test,y_pred)\n",
    "\n",
    "def mse(y_test, y_pred):\n",
    "    return tf.metrics.mean_squared_error(y_test, y_pred)"
   ]
  },
  {
   "cell_type": "code",
   "execution_count": 47,
   "id": "6b6d7509-039e-404e-a0cc-6473e26b57bd",
   "metadata": {},
   "outputs": [
    {
     "data": {
      "text/plain": [
       "(1919.7249, 43.535328)"
      ]
     },
     "execution_count": 47,
     "metadata": {},
     "output_type": "execute_result"
    }
   ],
   "source": [
    "mae_1 = mae(y_test,y_preds_1.squeeze()).numpy()\n",
    "mse_1 = mse(y_test, y_preds_1.squeeze()).numpy()\n",
    "mse_1, mae_1"
   ]
  },
  {
   "cell_type": "markdown",
   "id": "8860b335-06d6-4a70-a502-7227872bcb37",
   "metadata": {
    "tags": []
   },
   "source": [
    "## Model 2"
   ]
  },
  {
   "cell_type": "code",
   "execution_count": 51,
   "id": "b86cd730-dbfd-4641-af66-94ab7e2e8259",
   "metadata": {
    "tags": []
   },
   "outputs": [
    {
     "data": {
      "text/plain": [
       "<keras.callbacks.History at 0x7f0d76855fd0>"
      ]
     },
     "execution_count": 51,
     "metadata": {},
     "output_type": "execute_result"
    }
   ],
   "source": [
    "tf.random.set_seed(42)\n",
    "\n",
    "model_2 = tf.keras.Sequential([\n",
    "    tf.keras.layers.Dense(1),\n",
    "    tf.keras.layers.Dense(1)\n",
    "])\n",
    "\n",
    "model_2.compile(loss = tf.keras.losses.mae, optimizer = tf.keras.optimizers.SGD(), metrics=['mae'])\n",
    "\n",
    "model_2.fit(tf.expand_dims(X_train, axis = -1), y_train, epochs = 100, verbose=0)"
   ]
  },
  {
   "cell_type": "code",
   "execution_count": 52,
   "id": "6f69ff74-982e-4246-92e3-d76a38b050a4",
   "metadata": {},
   "outputs": [
    {
     "data": {
      "image/png": "[encoded data removed]",
      "text/plain": [
       "<Figure size 720x504 with 1 Axes>"
      ]
     },
     "metadata": {
      "needs_background": "light"
     },
     "output_type": "display_data"
    }
   ],
   "source": [
    "y_preds_2 = model_2.predict(X_test)\n",
    "plot_predictions(predictions = y_preds_2)"
   ]
  },
  {
   "cell_type": "markdown",
   "id": "22fcd116-dbfc-4f5c-81a2-66a9e6c3b6d2",
   "metadata": {},
   "source": [
    "# Saving a model"
   ]
  },
  {
   "cell_type": "code",
   "execution_count": 56,
   "id": "957c0b15-80c8-46ea-b86a-172db8011285",
   "metadata": {},
   "outputs": [
    {
     "name": "stdout",
     "output_type": "stream",
     "text": [
      "INFO:tensorflow:Assets written to: Best_model_SavedModel_format/assets\n"
     ]
    }
   ],
   "source": [
    "model_2.save(\"Best_model_SavedModel_format\")"
   ]
  },
  {
   "cell_type": "code",
   "execution_count": 59,
   "id": "f1ba7c78-38c8-4831-b33c-1f4d3e4a43bc",
   "metadata": {},
   "outputs": [],
   "source": [
    "model_2.save(\"Best_Model.h5\")"
   ]
  },
  {
   "cell_type": "markdown",
   "id": "caff8757-7180-4cb7-b5bc-084b9c8488c3",
   "metadata": {},
   "source": [
    "# Loading a Model"
   ]
  },
  {
   "cell_type": "code",
   "execution_count": 60,
   "id": "23ea6575-669f-4d37-83d7-e753145c52ef",
   "metadata": {},
   "outputs": [],
   "source": [
    "loaded_saved_model = tf.keras.models.load_model(\"Best_model_SavedModel_format\")"
   ]
  },
  {
   "cell_type": "code",
   "execution_count": 61,
   "id": "36a6a67b-72dc-43ca-96f2-d05b218231e9",
   "metadata": {},
   "outputs": [
    {
     "name": "stdout",
     "output_type": "stream",
     "text": [
      "Model: \"sequential_5\"\n",
      "_________________________________________________________________\n",
      " Layer (type)                Output Shape              Param #   \n",
      "=================================================================\n",
      " dense_8 (Dense)             (None, 1)                 2         \n",
      "                                                                 \n",
      " dense_9 (Dense)             (None, 1)                 2         \n",
      "                                                                 \n",
      "=================================================================\n",
      "Total params: 4\n",
      "Trainable params: 4\n",
      "Non-trainable params: 0\n",
      "_________________________________________________________________\n"
     ]
    }
   ],
   "source": [
    "loaded_saved_model.summary()"
   ]
  },
  {
   "cell_type": "code",
   "execution_count": 63,
   "id": "31713b7d-8939-4986-bb83-d9896e9e9a23",
   "metadata": {
    "tags": []
   },
   "outputs": [
    {
     "data": {
      "text/plain": [
       "True"
      ]
     },
     "execution_count": 63,
     "metadata": {},
     "output_type": "execute_result"
    }
   ],
   "source": [
    "model_2_preds = model_2.predict(X_test)\n",
    "saved_model_preds = loaded_saved_model.predict(X_test)\n",
    "mae(y_test, saved_model_preds.squeeze()).numpy() == mae(y_test, model_2_preds.squeeze()).numpy()"
   ]
  }
 ],
 "metadata": {
  "kernelspec": {
   "display_name": "d2l:Python",
   "language": "python",
   "name": "conda-env-d2l-py"
  },
  "language_info": {
   "codemirror_mode": {
    "name": "ipython",
    "version": 3
   },
   "file_extension": ".py",
   "mimetype": "text/x-python",
   "name": "python",
   "nbconvert_exporter": "python",
   "pygments_lexer": "ipython3",
   "version": "3.9.10"
  }
 },
 "nbformat": 4,
 "nbformat_minor": 5
}

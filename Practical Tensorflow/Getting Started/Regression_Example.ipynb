{
 "cells": [
  {
   "cell_type": "code",
   "execution_count": 2,
   "id": "de08255b-ceb4-4be1-9241-5d1b8b96e34f",
   "metadata": {},
   "outputs": [],
   "source": [
    "# Importing the Libraries\n",
    "\n",
    "import pandas as pd\n",
    "import tensorflow as tf \n",
    "import matplotlib.pyplot as plt"
   ]
  },
  {
   "cell_type": "code",
   "execution_count": 3,
   "id": "a124a484-f524-4ec8-a38e-f2a9d86a53d1",
   "metadata": {},
   "outputs": [],
   "source": [
    "# Read in the insurance dataset\n",
    "insurance = pd.read_csv(\"https://raw.githubusercontent.com/stedy/Machine-Learning-with-R-datasets/master/insurance.csv\")"
   ]
  },
  {
   "cell_type": "code",
   "execution_count": 6,
   "id": "2599b5e0-9882-42f2-903d-7db1d70b0c8e",
   "metadata": {},
   "outputs": [
    {
     "data": {
      "text/html": [
       "<div><div id=2a4e0c12-831f-4b89-b2ca-08a2e4ab7660 style=\"display:none; background-color:#9D6CFF; color:white; width:200px; height:30px; padding-left:5px; border-radius:4px; flex-direction:row; justify-content:space-around; align-items:center;\" onmouseover=\"this.style.backgroundColor='#BA9BF8'\" onmouseout=\"this.style.backgroundColor='#9D6CFF'\" onclick=\"window.commands?.execute('create-mitosheet-from-dataframe-output');\">See Full Dataframe in Mito</div> <script> if (window.commands.hasCommand('create-mitosheet-from-dataframe-output')) document.getElementById('2a4e0c12-831f-4b89-b2ca-08a2e4ab7660').style.display = 'flex' </script> <table border=\"1\" class=\"dataframe\">\n",
       "  <thead>\n",
       "    <tr style=\"text-align: right;\">\n",
       "      <th></th>\n",
       "      <th>age</th>\n",
       "      <th>sex</th>\n",
       "      <th>bmi</th>\n",
       "      <th>children</th>\n",
       "      <th>smoker</th>\n",
       "      <th>region</th>\n",
       "      <th>charges</th>\n",
       "    </tr>\n",
       "  </thead>\n",
       "  <tbody>\n",
       "    <tr>\n",
       "      <th>0</th>\n",
       "      <td>19</td>\n",
       "      <td>female</td>\n",
       "      <td>27.900</td>\n",
       "      <td>0</td>\n",
       "      <td>yes</td>\n",
       "      <td>southwest</td>\n",
       "      <td>16884.92400</td>\n",
       "    </tr>\n",
       "    <tr>\n",
       "      <th>1</th>\n",
       "      <td>18</td>\n",
       "      <td>male</td>\n",
       "      <td>33.770</td>\n",
       "      <td>1</td>\n",
       "      <td>no</td>\n",
       "      <td>southeast</td>\n",
       "      <td>1725.55230</td>\n",
       "    </tr>\n",
       "    <tr>\n",
       "      <th>2</th>\n",
       "      <td>28</td>\n",
       "      <td>male</td>\n",
       "      <td>33.000</td>\n",
       "      <td>3</td>\n",
       "      <td>no</td>\n",
       "      <td>southeast</td>\n",
       "      <td>4449.46200</td>\n",
       "    </tr>\n",
       "    <tr>\n",
       "      <th>3</th>\n",
       "      <td>33</td>\n",
       "      <td>male</td>\n",
       "      <td>22.705</td>\n",
       "      <td>0</td>\n",
       "      <td>no</td>\n",
       "      <td>northwest</td>\n",
       "      <td>21984.47061</td>\n",
       "    </tr>\n",
       "    <tr>\n",
       "      <th>4</th>\n",
       "      <td>32</td>\n",
       "      <td>male</td>\n",
       "      <td>28.880</td>\n",
       "      <td>0</td>\n",
       "      <td>no</td>\n",
       "      <td>northwest</td>\n",
       "      <td>3866.85520</td>\n",
       "    </tr>\n",
       "  </tbody>\n",
       "</table></div>"
      ],
      "text/plain": [
       "   age     sex     bmi  children smoker     region      charges\n",
       "0   19  female  27.900         0    yes  southwest  16884.92400\n",
       "1   18    male  33.770         1     no  southeast   1725.55230\n",
       "2   28    male  33.000         3     no  southeast   4449.46200\n",
       "3   33    male  22.705         0     no  northwest  21984.47061\n",
       "4   32    male  28.880         0     no  northwest   3866.85520"
      ]
     },
     "execution_count": 6,
     "metadata": {},
     "output_type": "execute_result"
    }
   ],
   "source": [
    "insurance.head()"
   ]
  },
  {
   "cell_type": "code",
   "execution_count": 7,
   "id": "14c642a8-72db-41dd-86cd-4e488bf50d1d",
   "metadata": {},
   "outputs": [
    {
     "data": {
      "text/html": [
       "<div><div id=28254167-907c-4bbe-a225-7c7618e8dd3a style=\"display:none; background-color:#9D6CFF; color:white; width:200px; height:30px; padding-left:5px; border-radius:4px; flex-direction:row; justify-content:space-around; align-items:center;\" onmouseover=\"this.style.backgroundColor='#BA9BF8'\" onmouseout=\"this.style.backgroundColor='#9D6CFF'\" onclick=\"window.commands?.execute('create-mitosheet-from-dataframe-output');\">See Full Dataframe in Mito</div> <script> if (window.commands.hasCommand('create-mitosheet-from-dataframe-output')) document.getElementById('28254167-907c-4bbe-a225-7c7618e8dd3a').style.display = 'flex' </script> <table border=\"1\" class=\"dataframe\">\n",
       "  <thead>\n",
       "    <tr style=\"text-align: right;\">\n",
       "      <th></th>\n",
       "      <th>age</th>\n",
       "      <th>bmi</th>\n",
       "      <th>children</th>\n",
       "      <th>charges</th>\n",
       "      <th>sex_female</th>\n",
       "      <th>sex_male</th>\n",
       "      <th>smoker_no</th>\n",
       "      <th>smoker_yes</th>\n",
       "      <th>region_northeast</th>\n",
       "      <th>region_northwest</th>\n",
       "      <th>region_southeast</th>\n",
       "      <th>region_southwest</th>\n",
       "    </tr>\n",
       "  </thead>\n",
       "  <tbody>\n",
       "    <tr>\n",
       "      <th>0</th>\n",
       "      <td>19</td>\n",
       "      <td>27.900</td>\n",
       "      <td>0</td>\n",
       "      <td>16884.92400</td>\n",
       "      <td>1</td>\n",
       "      <td>0</td>\n",
       "      <td>0</td>\n",
       "      <td>1</td>\n",
       "      <td>0</td>\n",
       "      <td>0</td>\n",
       "      <td>0</td>\n",
       "      <td>1</td>\n",
       "    </tr>\n",
       "    <tr>\n",
       "      <th>1</th>\n",
       "      <td>18</td>\n",
       "      <td>33.770</td>\n",
       "      <td>1</td>\n",
       "      <td>1725.55230</td>\n",
       "      <td>0</td>\n",
       "      <td>1</td>\n",
       "      <td>1</td>\n",
       "      <td>0</td>\n",
       "      <td>0</td>\n",
       "      <td>0</td>\n",
       "      <td>1</td>\n",
       "      <td>0</td>\n",
       "    </tr>\n",
       "    <tr>\n",
       "      <th>2</th>\n",
       "      <td>28</td>\n",
       "      <td>33.000</td>\n",
       "      <td>3</td>\n",
       "      <td>4449.46200</td>\n",
       "      <td>0</td>\n",
       "      <td>1</td>\n",
       "      <td>1</td>\n",
       "      <td>0</td>\n",
       "      <td>0</td>\n",
       "      <td>0</td>\n",
       "      <td>1</td>\n",
       "      <td>0</td>\n",
       "    </tr>\n",
       "    <tr>\n",
       "      <th>3</th>\n",
       "      <td>33</td>\n",
       "      <td>22.705</td>\n",
       "      <td>0</td>\n",
       "      <td>21984.47061</td>\n",
       "      <td>0</td>\n",
       "      <td>1</td>\n",
       "      <td>1</td>\n",
       "      <td>0</td>\n",
       "      <td>0</td>\n",
       "      <td>1</td>\n",
       "      <td>0</td>\n",
       "      <td>0</td>\n",
       "    </tr>\n",
       "    <tr>\n",
       "      <th>4</th>\n",
       "      <td>32</td>\n",
       "      <td>28.880</td>\n",
       "      <td>0</td>\n",
       "      <td>3866.85520</td>\n",
       "      <td>0</td>\n",
       "      <td>1</td>\n",
       "      <td>1</td>\n",
       "      <td>0</td>\n",
       "      <td>0</td>\n",
       "      <td>1</td>\n",
       "      <td>0</td>\n",
       "      <td>0</td>\n",
       "    </tr>\n",
       "  </tbody>\n",
       "</table></div>"
      ],
      "text/plain": [
       "   age     bmi  children      charges  sex_female  sex_male  smoker_no  \\\n",
       "0   19  27.900         0  16884.92400           1         0          0   \n",
       "1   18  33.770         1   1725.55230           0         1          1   \n",
       "2   28  33.000         3   4449.46200           0         1          1   \n",
       "3   33  22.705         0  21984.47061           0         1          1   \n",
       "4   32  28.880         0   3866.85520           0         1          1   \n",
       "\n",
       "   smoker_yes  region_northeast  region_northwest  region_southeast  \\\n",
       "0           1                 0                 0                 0   \n",
       "1           0                 0                 0                 1   \n",
       "2           0                 0                 0                 1   \n",
       "3           0                 0                 1                 0   \n",
       "4           0                 0                 1                 0   \n",
       "\n",
       "   region_southwest  \n",
       "0                 1  \n",
       "1                 0  \n",
       "2                 0  \n",
       "3                 0  \n",
       "4                 0  "
      ]
     },
     "execution_count": 7,
     "metadata": {},
     "output_type": "execute_result"
    }
   ],
   "source": [
    "insurance_one_hot = pd.get_dummies(insurance)\n",
    "insurance_one_hot.head()"
   ]
  },
  {
   "cell_type": "code",
   "execution_count": 9,
   "id": "1205acf8-441d-4858-ab65-9e27acc2eb93",
   "metadata": {},
   "outputs": [],
   "source": [
    "X = insurance_one_hot.drop(\"charges\", axis = 1)\n",
    "y = insurance_one_hot[\"charges\"]"
   ]
  },
  {
   "cell_type": "code",
   "execution_count": 10,
   "id": "e8a60364-e5b6-4b53-a814-8f0bd717d8dd",
   "metadata": {},
   "outputs": [
    {
     "data": {
      "text/html": [
       "<div><div id=e21c16f5-fe21-480b-b761-27846c899d25 style=\"display:none; background-color:#9D6CFF; color:white; width:200px; height:30px; padding-left:5px; border-radius:4px; flex-direction:row; justify-content:space-around; align-items:center;\" onmouseover=\"this.style.backgroundColor='#BA9BF8'\" onmouseout=\"this.style.backgroundColor='#9D6CFF'\" onclick=\"window.commands?.execute('create-mitosheet-from-dataframe-output');\">See Full Dataframe in Mito</div> <script> if (window.commands.hasCommand('create-mitosheet-from-dataframe-output')) document.getElementById('e21c16f5-fe21-480b-b761-27846c899d25').style.display = 'flex' </script> <table border=\"1\" class=\"dataframe\">\n",
       "  <thead>\n",
       "    <tr style=\"text-align: right;\">\n",
       "      <th></th>\n",
       "      <th>age</th>\n",
       "      <th>bmi</th>\n",
       "      <th>children</th>\n",
       "      <th>sex_female</th>\n",
       "      <th>sex_male</th>\n",
       "      <th>smoker_no</th>\n",
       "      <th>smoker_yes</th>\n",
       "      <th>region_northeast</th>\n",
       "      <th>region_northwest</th>\n",
       "      <th>region_southeast</th>\n",
       "      <th>region_southwest</th>\n",
       "    </tr>\n",
       "  </thead>\n",
       "  <tbody>\n",
       "    <tr>\n",
       "      <th>0</th>\n",
       "      <td>19</td>\n",
       "      <td>27.900</td>\n",
       "      <td>0</td>\n",
       "      <td>1</td>\n",
       "      <td>0</td>\n",
       "      <td>0</td>\n",
       "      <td>1</td>\n",
       "      <td>0</td>\n",
       "      <td>0</td>\n",
       "      <td>0</td>\n",
       "      <td>1</td>\n",
       "    </tr>\n",
       "    <tr>\n",
       "      <th>1</th>\n",
       "      <td>18</td>\n",
       "      <td>33.770</td>\n",
       "      <td>1</td>\n",
       "      <td>0</td>\n",
       "      <td>1</td>\n",
       "      <td>1</td>\n",
       "      <td>0</td>\n",
       "      <td>0</td>\n",
       "      <td>0</td>\n",
       "      <td>1</td>\n",
       "      <td>0</td>\n",
       "    </tr>\n",
       "    <tr>\n",
       "      <th>2</th>\n",
       "      <td>28</td>\n",
       "      <td>33.000</td>\n",
       "      <td>3</td>\n",
       "      <td>0</td>\n",
       "      <td>1</td>\n",
       "      <td>1</td>\n",
       "      <td>0</td>\n",
       "      <td>0</td>\n",
       "      <td>0</td>\n",
       "      <td>1</td>\n",
       "      <td>0</td>\n",
       "    </tr>\n",
       "    <tr>\n",
       "      <th>3</th>\n",
       "      <td>33</td>\n",
       "      <td>22.705</td>\n",
       "      <td>0</td>\n",
       "      <td>0</td>\n",
       "      <td>1</td>\n",
       "      <td>1</td>\n",
       "      <td>0</td>\n",
       "      <td>0</td>\n",
       "      <td>1</td>\n",
       "      <td>0</td>\n",
       "      <td>0</td>\n",
       "    </tr>\n",
       "    <tr>\n",
       "      <th>4</th>\n",
       "      <td>32</td>\n",
       "      <td>28.880</td>\n",
       "      <td>0</td>\n",
       "      <td>0</td>\n",
       "      <td>1</td>\n",
       "      <td>1</td>\n",
       "      <td>0</td>\n",
       "      <td>0</td>\n",
       "      <td>1</td>\n",
       "      <td>0</td>\n",
       "      <td>0</td>\n",
       "    </tr>\n",
       "  </tbody>\n",
       "</table></div>"
      ],
      "text/plain": [
       "   age     bmi  children  sex_female  sex_male  smoker_no  smoker_yes  \\\n",
       "0   19  27.900         0           1         0          0           1   \n",
       "1   18  33.770         1           0         1          1           0   \n",
       "2   28  33.000         3           0         1          1           0   \n",
       "3   33  22.705         0           0         1          1           0   \n",
       "4   32  28.880         0           0         1          1           0   \n",
       "\n",
       "   region_northeast  region_northwest  region_southeast  region_southwest  \n",
       "0                 0                 0                 0                 1  \n",
       "1                 0                 0                 1                 0  \n",
       "2                 0                 0                 1                 0  \n",
       "3                 0                 1                 0                 0  \n",
       "4                 0                 1                 0                 0  "
      ]
     },
     "execution_count": 10,
     "metadata": {},
     "output_type": "execute_result"
    }
   ],
   "source": [
    "X.head()"
   ]
  },
  {
   "cell_type": "code",
   "execution_count": 17,
   "id": "a3bf719e-b795-4b49-b7f7-7ed4f02d19a8",
   "metadata": {},
   "outputs": [],
   "source": [
    "from sklearn.model_selection import train_test_split\n",
    "X_train, X_test, y_train, y_test = train_test_split(X, y, test_size = 0.2, random_state = 42)"
   ]
  },
  {
   "cell_type": "code",
   "execution_count": 28,
   "id": "c1bfe3f0-7644-4a8f-b3be-11941271e765",
   "metadata": {
    "collapsed": true,
    "jupyter": {
     "outputs_hidden": true
    },
    "tags": []
   },
   "outputs": [
    {
     "name": "stdout",
     "output_type": "stream",
     "text": [
      "Epoch 1/100\n"
     ]
    },
    {
     "name": "stderr",
     "output_type": "stream",
     "text": [
      "/home/studio-lab-user/.conda/envs/d2l/lib/python3.9/site-packages/keras/optimizer_v2/adam.py:105: UserWarning: The `lr` argument is deprecated, use `learning_rate` instead.\n",
      "  super(Adam, self).__init__(name, **kwargs)\n"
     ]
    },
    {
     "name": "stdout",
     "output_type": "stream",
     "text": [
      "34/34 [==============================] - 0s 1ms/step - loss: 13165.8721 - mae: 13165.8721\n",
      "Epoch 2/100\n",
      "34/34 [==============================] - 0s 2ms/step - loss: 11588.7852 - mae: 11588.7852\n",
      "Epoch 3/100\n",
      "34/34 [==============================] - 0s 2ms/step - loss: 7999.4092 - mae: 7999.4092\n",
      "Epoch 4/100\n",
      "34/34 [==============================] - 0s 2ms/step - loss: 7494.7095 - mae: 7494.7095\n",
      "Epoch 5/100\n",
      "34/34 [==============================] - 0s 2ms/step - loss: 7397.1533 - mae: 7397.1533\n",
      "Epoch 6/100\n",
      "34/34 [==============================] - 0s 2ms/step - loss: 7338.3081 - mae: 7338.3081\n",
      "Epoch 7/100\n",
      "34/34 [==============================] - 0s 3ms/step - loss: 7255.4165 - mae: 7255.4165\n",
      "Epoch 8/100\n",
      "34/34 [==============================] - 0s 1ms/step - loss: 7180.7700 - mae: 7180.7700\n",
      "Epoch 9/100\n",
      "34/34 [==============================] - 0s 1ms/step - loss: 7100.7476 - mae: 7100.7476\n",
      "Epoch 10/100\n",
      "34/34 [==============================] - 0s 1ms/step - loss: 7014.1006 - mae: 7014.1006\n",
      "Epoch 11/100\n",
      "34/34 [==============================] - 0s 1ms/step - loss: 6921.0405 - mae: 6921.0405\n",
      "Epoch 12/100\n",
      "34/34 [==============================] - 0s 1ms/step - loss: 6805.1650 - mae: 6805.1650\n",
      "Epoch 13/100\n",
      "34/34 [==============================] - 0s 1ms/step - loss: 6684.2148 - mae: 6684.2148\n",
      "Epoch 14/100\n",
      "34/34 [==============================] - 0s 1ms/step - loss: 6564.4243 - mae: 6564.4243\n",
      "Epoch 15/100\n",
      "34/34 [==============================] - 0s 1ms/step - loss: 6461.1812 - mae: 6461.1812\n",
      "Epoch 16/100\n",
      "34/34 [==============================] - 0s 1ms/step - loss: 6401.7349 - mae: 6401.7349\n",
      "Epoch 17/100\n",
      "34/34 [==============================] - 0s 1ms/step - loss: 6349.0562 - mae: 6349.0562\n",
      "Epoch 18/100\n",
      "34/34 [==============================] - 0s 1ms/step - loss: 6301.7173 - mae: 6301.7173\n",
      "Epoch 19/100\n",
      "34/34 [==============================] - 0s 1ms/step - loss: 6243.3252 - mae: 6243.3252\n",
      "Epoch 20/100\n",
      "34/34 [==============================] - 0s 1ms/step - loss: 6188.3906 - mae: 6188.3906\n",
      "Epoch 21/100\n",
      "34/34 [==============================] - 0s 1ms/step - loss: 6120.4810 - mae: 6120.4810\n",
      "Epoch 22/100\n",
      "34/34 [==============================] - 0s 1ms/step - loss: 6057.9126 - mae: 6057.9126\n",
      "Epoch 23/100\n",
      "34/34 [==============================] - 0s 1ms/step - loss: 5980.0830 - mae: 5980.0830\n",
      "Epoch 24/100\n",
      "34/34 [==============================] - 0s 1ms/step - loss: 5888.7642 - mae: 5888.7642\n",
      "Epoch 25/100\n",
      "34/34 [==============================] - 0s 1ms/step - loss: 5799.5273 - mae: 5799.5273\n",
      "Epoch 26/100\n",
      "34/34 [==============================] - 0s 1ms/step - loss: 5683.6982 - mae: 5683.6982\n",
      "Epoch 27/100\n",
      "34/34 [==============================] - 0s 1ms/step - loss: 5558.7256 - mae: 5558.7256\n",
      "Epoch 28/100\n",
      "34/34 [==============================] - 0s 1ms/step - loss: 5397.7261 - mae: 5397.7261\n",
      "Epoch 29/100\n",
      "34/34 [==============================] - 0s 1ms/step - loss: 5217.1289 - mae: 5217.1289\n",
      "Epoch 30/100\n",
      "34/34 [==============================] - 0s 1ms/step - loss: 5001.9077 - mae: 5001.9077\n",
      "Epoch 31/100\n",
      "34/34 [==============================] - 0s 1ms/step - loss: 4748.1421 - mae: 4748.1421\n",
      "Epoch 32/100\n",
      "34/34 [==============================] - 0s 1ms/step - loss: 4485.2329 - mae: 4485.2329\n",
      "Epoch 33/100\n",
      "34/34 [==============================] - 0s 1ms/step - loss: 4177.9814 - mae: 4177.9814\n",
      "Epoch 34/100\n",
      "34/34 [==============================] - 0s 1ms/step - loss: 4004.1912 - mae: 4004.1912\n",
      "Epoch 35/100\n",
      "34/34 [==============================] - 0s 1ms/step - loss: 3884.2668 - mae: 3884.2668\n",
      "Epoch 36/100\n",
      "34/34 [==============================] - 0s 1ms/step - loss: 3822.0476 - mae: 3822.0476\n",
      "Epoch 37/100\n",
      "34/34 [==============================] - 0s 1ms/step - loss: 3795.8984 - mae: 3795.8984\n",
      "Epoch 38/100\n",
      "34/34 [==============================] - 0s 1ms/step - loss: 3814.2598 - mae: 3814.2598\n",
      "Epoch 39/100\n",
      "34/34 [==============================] - 0s 1ms/step - loss: 3796.3867 - mae: 3796.3867\n",
      "Epoch 40/100\n",
      "34/34 [==============================] - 0s 1ms/step - loss: 3774.9775 - mae: 3774.9775\n",
      "Epoch 41/100\n",
      "34/34 [==============================] - 0s 1ms/step - loss: 3794.6023 - mae: 3794.6023\n",
      "Epoch 42/100\n",
      "34/34 [==============================] - 0s 1ms/step - loss: 3786.4390 - mae: 3786.4390\n",
      "Epoch 43/100\n",
      "34/34 [==============================] - 0s 1ms/step - loss: 3763.2358 - mae: 3763.2358\n",
      "Epoch 44/100\n",
      "34/34 [==============================] - 0s 1ms/step - loss: 3772.7205 - mae: 3772.7205\n",
      "Epoch 45/100\n",
      "34/34 [==============================] - 0s 1ms/step - loss: 3742.9458 - mae: 3742.9458\n",
      "Epoch 46/100\n",
      "34/34 [==============================] - 0s 1ms/step - loss: 3733.4058 - mae: 3733.4058\n",
      "Epoch 47/100\n",
      "34/34 [==============================] - 0s 1ms/step - loss: 3748.3235 - mae: 3748.3235\n",
      "Epoch 48/100\n",
      "34/34 [==============================] - 0s 1ms/step - loss: 3725.6052 - mae: 3725.6052\n",
      "Epoch 49/100\n",
      "34/34 [==============================] - 0s 1ms/step - loss: 3719.6667 - mae: 3719.6667\n",
      "Epoch 50/100\n",
      "34/34 [==============================] - 0s 1ms/step - loss: 3721.5195 - mae: 3721.5195\n",
      "Epoch 51/100\n",
      "34/34 [==============================] - 0s 1ms/step - loss: 3708.8298 - mae: 3708.8298\n",
      "Epoch 52/100\n",
      "34/34 [==============================] - 0s 1ms/step - loss: 3700.8574 - mae: 3700.8574\n",
      "Epoch 53/100\n",
      "34/34 [==============================] - 0s 1ms/step - loss: 3724.8313 - mae: 3724.8313\n",
      "Epoch 54/100\n",
      "34/34 [==============================] - 0s 1ms/step - loss: 3712.5496 - mae: 3712.5496\n",
      "Epoch 55/100\n",
      "34/34 [==============================] - 0s 1ms/step - loss: 3696.4595 - mae: 3696.4595\n",
      "Epoch 56/100\n",
      "34/34 [==============================] - 0s 1ms/step - loss: 3678.7583 - mae: 3678.7583\n",
      "Epoch 57/100\n",
      "34/34 [==============================] - 0s 1ms/step - loss: 3680.9319 - mae: 3680.9319\n",
      "Epoch 58/100\n",
      "34/34 [==============================] - 0s 2ms/step - loss: 3684.4751 - mae: 3684.4751\n",
      "Epoch 59/100\n",
      "34/34 [==============================] - 0s 1ms/step - loss: 3669.0745 - mae: 3669.0745\n",
      "Epoch 60/100\n",
      "34/34 [==============================] - 0s 1ms/step - loss: 3675.7012 - mae: 3675.7012\n",
      "Epoch 61/100\n",
      "34/34 [==============================] - 0s 1ms/step - loss: 3664.4509 - mae: 3664.4509\n",
      "Epoch 62/100\n",
      "34/34 [==============================] - 0s 1ms/step - loss: 3657.3662 - mae: 3657.3662\n",
      "Epoch 63/100\n",
      "34/34 [==============================] - 0s 1ms/step - loss: 3680.5664 - mae: 3680.5664\n",
      "Epoch 64/100\n",
      "34/34 [==============================] - 0s 2ms/step - loss: 3657.7048 - mae: 3657.7048\n",
      "Epoch 65/100\n",
      "34/34 [==============================] - 0s 2ms/step - loss: 3651.7603 - mae: 3651.7603\n",
      "Epoch 66/100\n",
      "34/34 [==============================] - 0s 1ms/step - loss: 3648.9214 - mae: 3648.9214\n",
      "Epoch 67/100\n",
      "34/34 [==============================] - 0s 1ms/step - loss: 3630.1060 - mae: 3630.1060\n",
      "Epoch 68/100\n",
      "34/34 [==============================] - 0s 1ms/step - loss: 3643.6318 - mae: 3643.6318\n",
      "Epoch 69/100\n",
      "34/34 [==============================] - 0s 1ms/step - loss: 3623.5771 - mae: 3623.5771\n",
      "Epoch 70/100\n",
      "34/34 [==============================] - 0s 1ms/step - loss: 3607.4136 - mae: 3607.4136\n",
      "Epoch 71/100\n",
      "34/34 [==============================] - 0s 1ms/step - loss: 3615.4412 - mae: 3615.4412\n",
      "Epoch 72/100\n",
      "34/34 [==============================] - 0s 1ms/step - loss: 3603.0881 - mae: 3603.0881\n",
      "Epoch 73/100\n",
      "34/34 [==============================] - 0s 1ms/step - loss: 3595.8567 - mae: 3595.8567\n",
      "Epoch 74/100\n",
      "34/34 [==============================] - 0s 1ms/step - loss: 3607.3291 - mae: 3607.3291\n",
      "Epoch 75/100\n",
      "34/34 [==============================] - 0s 1ms/step - loss: 3587.2981 - mae: 3587.2981\n",
      "Epoch 76/100\n",
      "34/34 [==============================] - 0s 1ms/step - loss: 3581.3020 - mae: 3581.3020\n",
      "Epoch 77/100\n",
      "34/34 [==============================] - 0s 1ms/step - loss: 3564.8188 - mae: 3564.8188\n",
      "Epoch 78/100\n",
      "34/34 [==============================] - 0s 1ms/step - loss: 3586.0042 - mae: 3586.0042\n",
      "Epoch 79/100\n",
      "34/34 [==============================] - 0s 1ms/step - loss: 3579.8525 - mae: 3579.8525\n",
      "Epoch 80/100\n",
      "34/34 [==============================] - 0s 1ms/step - loss: 3579.8640 - mae: 3579.8640\n",
      "Epoch 81/100\n",
      "34/34 [==============================] - 0s 1ms/step - loss: 3572.2581 - mae: 3572.2581\n",
      "Epoch 82/100\n",
      "34/34 [==============================] - 0s 1ms/step - loss: 3632.8142 - mae: 3632.8142\n",
      "Epoch 83/100\n",
      "34/34 [==============================] - 0s 1ms/step - loss: 3587.2139 - mae: 3587.2139\n",
      "Epoch 84/100\n",
      "34/34 [==============================] - 0s 1ms/step - loss: 3626.6323 - mae: 3626.6323\n",
      "Epoch 85/100\n",
      "34/34 [==============================] - 0s 1ms/step - loss: 3531.8398 - mae: 3531.8398\n",
      "Epoch 86/100\n",
      "34/34 [==============================] - 0s 1ms/step - loss: 3563.3801 - mae: 3563.3801\n",
      "Epoch 87/100\n",
      "34/34 [==============================] - 0s 1ms/step - loss: 3530.6680 - mae: 3530.6680\n",
      "Epoch 88/100\n",
      "34/34 [==============================] - 0s 1ms/step - loss: 3536.0266 - mae: 3536.0266\n",
      "Epoch 89/100\n",
      "34/34 [==============================] - 0s 1ms/step - loss: 3530.1890 - mae: 3530.1890\n",
      "Epoch 90/100\n",
      "34/34 [==============================] - 0s 1ms/step - loss: 3529.6418 - mae: 3529.6418\n",
      "Epoch 91/100\n",
      "34/34 [==============================] - 0s 1ms/step - loss: 3526.3022 - mae: 3526.3022\n",
      "Epoch 92/100\n",
      "34/34 [==============================] - 0s 1ms/step - loss: 3540.6228 - mae: 3540.6228\n",
      "Epoch 93/100\n",
      "34/34 [==============================] - 0s 1ms/step - loss: 3527.2307 - mae: 3527.2307\n",
      "Epoch 94/100\n",
      "34/34 [==============================] - 0s 1ms/step - loss: 3511.5962 - mae: 3511.5962\n",
      "Epoch 95/100\n",
      "34/34 [==============================] - 0s 1ms/step - loss: 3518.3994 - mae: 3518.3994\n",
      "Epoch 96/100\n",
      "34/34 [==============================] - 0s 1ms/step - loss: 3523.1533 - mae: 3523.1533\n",
      "Epoch 97/100\n",
      "34/34 [==============================] - 0s 1ms/step - loss: 3498.6157 - mae: 3498.6157\n",
      "Epoch 98/100\n",
      "34/34 [==============================] - 0s 1ms/step - loss: 3516.2600 - mae: 3516.2600\n",
      "Epoch 99/100\n",
      "34/34 [==============================] - 0s 1ms/step - loss: 3505.5415 - mae: 3505.5415\n",
      "Epoch 100/100\n",
      "34/34 [==============================] - 0s 1ms/step - loss: 3494.1211 - mae: 3494.1211\n"
     ]
    }
   ],
   "source": [
    "# Creating a ModelSelection\n",
    "\n",
    "tf.random.set_seed(42)\n",
    "\n",
    "insurance_model = tf.keras.Sequential([\n",
    "    tf.keras.layers.Dense(10),\n",
    "    tf.keras.layers.Dense(5),\n",
    "    tf.keras.layers.Dense(1)\n",
    "])\n",
    "\n",
    "insurance_model.compile(loss = tf.keras.losses.mae, optimizer = tf.keras.optimizers.Adam(lr = 0.01), metrics = [\"mae\"])\n",
    "history = insurance_model.fit(X_train, y_train, epochs = 100)"
   ]
  },
  {
   "cell_type": "code",
   "execution_count": 29,
   "id": "63aadbb0-468a-4083-a145-c3f2785681fc",
   "metadata": {},
   "outputs": [
    {
     "name": "stdout",
     "output_type": "stream",
     "text": [
      "9/9 [==============================] - 0s 6ms/step - loss: 3172.5215 - mae: 3172.5215\n"
     ]
    },
    {
     "data": {
      "text/plain": [
       "[3172.521484375, 3172.521484375]"
      ]
     },
     "execution_count": 29,
     "metadata": {},
     "output_type": "execute_result"
    }
   ],
   "source": [
    "insurance_model.evaluate(X_test, y_test)"
   ]
  },
  {
   "cell_type": "code",
   "execution_count": 35,
   "id": "7eed38da-687e-4e16-b54d-6d144cc3004b",
   "metadata": {},
   "outputs": [
    {
     "data": {
      "text/plain": [
       "Text(0.5, 0, 'epochs')"
      ]
     },
     "execution_count": 35,
     "metadata": {},
     "output_type": "execute_result"
    },
    {
     "data": {
      "image/png": "[encoded data removed]",
      "text/plain": [
       "<Figure size 432x288 with 1 Axes>"
      ]
     },
     "metadata": {
      "needs_background": "light"
     },
     "output_type": "display_data"
    }
   ],
   "source": [
    "pd.DataFrame(history.history).plot()\n",
    "plt.ylabel(\"loss\")\n",
    "plt.xlabel(\"epochs\")"
   ]
  },
  {
   "cell_type": "markdown",
   "id": "6562175f-d4f8-4c4a-90b9-0a68ae8d67b7",
   "metadata": {},
   "source": [
    "# Preprocessing Data"
   ]
  },
  {
   "cell_type": "code",
   "execution_count": 36,
   "id": "ca07b45f-6161-462d-a6c2-695e9da00112",
   "metadata": {},
   "outputs": [],
   "source": [
    "import pandas as pd\n",
    "import matplotlib.pyplot as plt\n",
    "import tensorflow as tf\n",
    "\n",
    "# Read in the insurance dataset\n",
    "insurance = pd.read_csv(\"https://raw.githubusercontent.com/stedy/Machine-Learning-with-R-datasets/master/insurance.csv\")"
   ]
  },
  {
   "cell_type": "code",
   "execution_count": 38,
   "id": "7b799d27-3122-4e37-8d27-58913b8c2be5",
   "metadata": {},
   "outputs": [
    {
     "data": {
      "text/html": [
       "<div><div id=a36e0075-6b6d-44da-bcfc-4b678d9b5cf5 style=\"display:none; background-color:#9D6CFF; color:white; width:200px; height:30px; padding-left:5px; border-radius:4px; flex-direction:row; justify-content:space-around; align-items:center;\" onmouseover=\"this.style.backgroundColor='#BA9BF8'\" onmouseout=\"this.style.backgroundColor='#9D6CFF'\" onclick=\"window.commands?.execute('create-mitosheet-from-dataframe-output');\">See Full Dataframe in Mito</div> <script> if (window.commands.hasCommand('create-mitosheet-from-dataframe-output')) document.getElementById('a36e0075-6b6d-44da-bcfc-4b678d9b5cf5').style.display = 'flex' </script> <table border=\"1\" class=\"dataframe\">\n",
       "  <thead>\n",
       "    <tr style=\"text-align: right;\">\n",
       "      <th></th>\n",
       "      <th>age</th>\n",
       "      <th>sex</th>\n",
       "      <th>bmi</th>\n",
       "      <th>children</th>\n",
       "      <th>smoker</th>\n",
       "      <th>region</th>\n",
       "      <th>charges</th>\n",
       "    </tr>\n",
       "  </thead>\n",
       "  <tbody>\n",
       "    <tr>\n",
       "      <th>0</th>\n",
       "      <td>19</td>\n",
       "      <td>female</td>\n",
       "      <td>27.900</td>\n",
       "      <td>0</td>\n",
       "      <td>yes</td>\n",
       "      <td>southwest</td>\n",
       "      <td>16884.92400</td>\n",
       "    </tr>\n",
       "    <tr>\n",
       "      <th>1</th>\n",
       "      <td>18</td>\n",
       "      <td>male</td>\n",
       "      <td>33.770</td>\n",
       "      <td>1</td>\n",
       "      <td>no</td>\n",
       "      <td>southeast</td>\n",
       "      <td>1725.55230</td>\n",
       "    </tr>\n",
       "    <tr>\n",
       "      <th>2</th>\n",
       "      <td>28</td>\n",
       "      <td>male</td>\n",
       "      <td>33.000</td>\n",
       "      <td>3</td>\n",
       "      <td>no</td>\n",
       "      <td>southeast</td>\n",
       "      <td>4449.46200</td>\n",
       "    </tr>\n",
       "    <tr>\n",
       "      <th>3</th>\n",
       "      <td>33</td>\n",
       "      <td>male</td>\n",
       "      <td>22.705</td>\n",
       "      <td>0</td>\n",
       "      <td>no</td>\n",
       "      <td>northwest</td>\n",
       "      <td>21984.47061</td>\n",
       "    </tr>\n",
       "    <tr>\n",
       "      <th>4</th>\n",
       "      <td>32</td>\n",
       "      <td>male</td>\n",
       "      <td>28.880</td>\n",
       "      <td>0</td>\n",
       "      <td>no</td>\n",
       "      <td>northwest</td>\n",
       "      <td>3866.85520</td>\n",
       "    </tr>\n",
       "  </tbody>\n",
       "</table></div>"
      ],
      "text/plain": [
       "   age     sex     bmi  children smoker     region      charges\n",
       "0   19  female  27.900         0    yes  southwest  16884.92400\n",
       "1   18    male  33.770         1     no  southeast   1725.55230\n",
       "2   28    male  33.000         3     no  southeast   4449.46200\n",
       "3   33    male  22.705         0     no  northwest  21984.47061\n",
       "4   32    male  28.880         0     no  northwest   3866.85520"
      ]
     },
     "execution_count": 38,
     "metadata": {},
     "output_type": "execute_result"
    }
   ],
   "source": [
    "insurance.head()"
   ]
  },
  {
   "cell_type": "code",
   "execution_count": 46,
   "id": "1f5ae9a1-4f86-4f91-b7ed-559f60e5fc5f",
   "metadata": {},
   "outputs": [],
   "source": [
    "from sklearn.compose import make_column_transformer\n",
    "from sklearn.preprocessing import MinMaxScaler, OneHotEncoder\n",
    "\n",
    "ct = make_column_transformer(\n",
    "    (MinMaxScaler(), [\"age\",\"bmi\",\"children\"]),\n",
    "    (OneHotEncoder(handle_unknown=\"ignore\"),[\"sex\",\"smoker\",\"region\"])\n",
    ")\n",
    "\n",
    "X = insurance.drop(\"charges\", axis = 1) \n",
    "y = insurance[\"charges\"] \n",
    "\n",
    "X_train, X_test, y_train, y_test = train_test_split(X, y, test_size = 0.2, random_state = 42)\n",
    "\n",
    "ct.fit(X_train)\n",
    "\n",
    "X_train_normal = ct.transform(X_train)\n",
    "X_test_normal = ct.transform(X_test)\n"
   ]
  },
  {
   "cell_type": "code",
   "execution_count": 50,
   "id": "cbc7096a-09ad-4bac-88f0-c5baabc5e538",
   "metadata": {},
   "outputs": [
    {
     "data": {
      "text/plain": [
       "age                19\n",
       "sex            female\n",
       "bmi              27.9\n",
       "children            0\n",
       "smoker            yes\n",
       "region      southwest\n",
       "Name: 0, dtype: object"
      ]
     },
     "execution_count": 50,
     "metadata": {},
     "output_type": "execute_result"
    }
   ],
   "source": [
    "X_train.loc[0]"
   ]
  },
  {
   "cell_type": "code",
   "execution_count": 51,
   "id": "3a7663ab-335e-454d-97bf-d8820cc21bc1",
   "metadata": {},
   "outputs": [
    {
     "data": {
      "text/plain": [
       "array([0.60869565, 0.10734463, 0.4       , 1.        , 0.        ,\n",
       "       1.        , 0.        , 0.        , 1.        , 0.        ,\n",
       "       0.        ])"
      ]
     },
     "execution_count": 51,
     "metadata": {},
     "output_type": "execute_result"
    }
   ],
   "source": [
    "X_train_normal[0]"
   ]
  },
  {
   "cell_type": "code",
   "execution_count": 52,
   "id": "859bd8ed-dad0-4a0e-813a-b54866f967de",
   "metadata": {},
   "outputs": [
    {
     "data": {
      "text/plain": [
       "<keras.callbacks.History at 0x7fb1878223d0>"
      ]
     },
     "execution_count": 52,
     "metadata": {},
     "output_type": "execute_result"
    }
   ],
   "source": [
    "# Set random seed\n",
    "tf.random.set_seed(42)\n",
    "\n",
    "# Build the model (3 layers, 100, 10, 1 units)\n",
    "insurance_model_3 = tf.keras.Sequential([\n",
    "  tf.keras.layers.Dense(100),\n",
    "  tf.keras.layers.Dense(10),\n",
    "  tf.keras.layers.Dense(1)\n",
    "])\n",
    "\n",
    "# Compile the model\n",
    "insurance_model_3.compile(loss=tf.keras.losses.mae,\n",
    "                          optimizer=tf.keras.optimizers.Adam(),\n",
    "                          metrics=['mae'])\n",
    "\n",
    "# Fit the model for 200 epochs (same as insurance_model_2)\n",
    "insurance_model_3.fit(X_train_normal, y_train, epochs=200, verbose=0) "
   ]
  },
  {
   "cell_type": "code",
   "execution_count": 54,
   "id": "fd11a522-8f02-4326-9a41-66b143d2e873",
   "metadata": {},
   "outputs": [
    {
     "name": "stdout",
     "output_type": "stream",
     "text": [
      "9/9 [==============================] - 0s 1ms/step - loss: 3171.5774 - mae: 3171.5774\n"
     ]
    }
   ],
   "source": [
    "# Evaulate 3rd model\n",
    "insurance_model_3_loss, insurance_model_3_mae = insurance_model_3.evaluate(X_test_normal, y_test)"
   ]
  },
  {
   "cell_type": "code",
   "execution_count": null,
   "id": "2adabe85-14b9-4937-93f8-061f6b88f53c",
   "metadata": {},
   "outputs": [],
   "source": []
  }
 ],
 "metadata": {
  "kernelspec": {
   "display_name": "d2l:Python",
   "language": "python",
   "name": "conda-env-d2l-py"
  },
  "language_info": {
   "codemirror_mode": {
    "name": "ipython",
    "version": 3
   },
   "file_extension": ".py",
   "mimetype": "text/x-python",
   "name": "python",
   "nbconvert_exporter": "python",
   "pygments_lexer": "ipython3",
   "version": "3.9.10"
  }
 },
 "nbformat": 4,
 "nbformat_minor": 5
}

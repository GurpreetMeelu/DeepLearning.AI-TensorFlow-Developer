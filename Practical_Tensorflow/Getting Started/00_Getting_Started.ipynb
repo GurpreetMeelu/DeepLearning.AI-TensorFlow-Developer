{
 "cells": [
  {
   "cell_type": "markdown",
   "id": "f71fc97a-8aa4-49d8-8e64-1ea90422471d",
   "metadata": {
    "tags": []
   },
   "source": [
    "# Introduction to Tensors"
   ]
  },
  {
   "cell_type": "code",
   "execution_count": 2,
   "id": "ef79b1c3-0f9b-4788-8ac7-08e87ba716f0",
   "metadata": {},
   "outputs": [
    {
     "name": "stdout",
     "output_type": "stream",
     "text": [
      "2.8.0\n"
     ]
    }
   ],
   "source": [
    "import tensorflow as tf\n",
    "print(tf.__version__)"
   ]
  },
  {
   "cell_type": "code",
   "execution_count": 3,
   "id": "57c4c305-db56-47db-9fef-ff1e4692478b",
   "metadata": {},
   "outputs": [
    {
     "data": {
      "text/plain": [
       "<tf.Tensor: shape=(), dtype=int32, numpy=7>"
      ]
     },
     "execution_count": 3,
     "metadata": {},
     "output_type": "execute_result"
    }
   ],
   "source": [
    "scaler = tf.constant(7)\n",
    "scaler"
   ]
  },
  {
   "cell_type": "code",
   "execution_count": 4,
   "id": "bf333a22-a08f-442c-b01d-a8fa8492e547",
   "metadata": {},
   "outputs": [
    {
     "data": {
      "text/plain": [
       "0"
      ]
     },
     "execution_count": 4,
     "metadata": {},
     "output_type": "execute_result"
    }
   ],
   "source": [
    "scaler.ndim"
   ]
  },
  {
   "cell_type": "code",
   "execution_count": 5,
   "id": "edebc85b-a034-46d4-9044-18784cc0c1e9",
   "metadata": {},
   "outputs": [
    {
     "data": {
      "text/plain": [
       "<tf.Tensor: shape=(2,), dtype=int32, numpy=array([10,  7], dtype=int32)>"
      ]
     },
     "execution_count": 5,
     "metadata": {},
     "output_type": "execute_result"
    }
   ],
   "source": [
    "vector = tf.constant([10,7])\n",
    "vector"
   ]
  },
  {
   "cell_type": "code",
   "execution_count": 6,
   "id": "bbe5ee21-3cc7-4a6b-bfbc-931d4183ff40",
   "metadata": {},
   "outputs": [
    {
     "data": {
      "text/plain": [
       "1"
      ]
     },
     "execution_count": 6,
     "metadata": {},
     "output_type": "execute_result"
    }
   ],
   "source": [
    "vector.ndim"
   ]
  },
  {
   "cell_type": "code",
   "execution_count": 7,
   "id": "b82b5f65-c7cc-400f-b00d-00e7fe0877e0",
   "metadata": {},
   "outputs": [
    {
     "data": {
      "text/plain": [
       "<tf.Tensor: shape=(2, 2), dtype=int32, numpy=\n",
       "array([[10,  7],\n",
       "       [ 2,  9]], dtype=int32)>"
      ]
     },
     "execution_count": 7,
     "metadata": {},
     "output_type": "execute_result"
    }
   ],
   "source": [
    "matrix = tf.constant(\n",
    "    [[10,7],\n",
    "    [2,9]])\n",
    "matrix"
   ]
  },
  {
   "cell_type": "code",
   "execution_count": 8,
   "id": "98acb846-7e55-441f-b56b-ecd338ee1d74",
   "metadata": {},
   "outputs": [
    {
     "data": {
      "text/plain": [
       "2"
      ]
     },
     "execution_count": 8,
     "metadata": {},
     "output_type": "execute_result"
    }
   ],
   "source": [
    "matrix.ndim"
   ]
  },
  {
   "cell_type": "code",
   "execution_count": 9,
   "id": "cab9791e-447c-4e1b-a5b9-4ce3ca07ea17",
   "metadata": {},
   "outputs": [
    {
     "data": {
      "text/plain": [
       "<tf.Tensor: shape=(3, 2), dtype=float16, numpy=\n",
       "array([[10.,  7.],\n",
       "       [ 3.,  2.],\n",
       "       [ 8.,  9.]], dtype=float16)>"
      ]
     },
     "execution_count": 9,
     "metadata": {},
     "output_type": "execute_result"
    }
   ],
   "source": [
    "another_matrix = tf.constant([[10,7],\n",
    "                             [3,2],\n",
    "                             [8,9]], dtype = tf.float16)\n",
    "another_matrix"
   ]
  },
  {
   "cell_type": "code",
   "execution_count": 10,
   "id": "c31c6d14-981d-476b-976c-a9d457537707",
   "metadata": {},
   "outputs": [
    {
     "data": {
      "text/plain": [
       "2"
      ]
     },
     "execution_count": 10,
     "metadata": {},
     "output_type": "execute_result"
    }
   ],
   "source": [
    "another_matrix.ndim"
   ]
  },
  {
   "cell_type": "code",
   "execution_count": 11,
   "id": "2efcd535-81ae-4a85-9a13-02a66fb37878",
   "metadata": {},
   "outputs": [
    {
     "data": {
      "text/plain": [
       "<tf.Tensor: shape=(3, 2, 3), dtype=int32, numpy=\n",
       "array([[[ 1,  2,  3],\n",
       "        [ 4,  5,  6]],\n",
       "\n",
       "       [[ 7,  8,  9],\n",
       "        [10, 11, 12]],\n",
       "\n",
       "       [[13, 14, 15],\n",
       "        [16, 17, 18]]], dtype=int32)>"
      ]
     },
     "execution_count": 11,
     "metadata": {},
     "output_type": "execute_result"
    }
   ],
   "source": [
    "# Tensors\n",
    "tensor = tf.constant([[[1, 2, 3],\n",
    "                       [4, 5, 6]],\n",
    "                      [[7, 8, 9],\n",
    "                       [10, 11, 12]],\n",
    "                      [[13, 14, 15],\n",
    "                       [16, 17, 18]]])\n",
    "tensor"
   ]
  },
  {
   "cell_type": "code",
   "execution_count": 12,
   "id": "b437b645-c68e-4d99-b772-82713dee110d",
   "metadata": {},
   "outputs": [
    {
     "data": {
      "text/plain": [
       "3"
      ]
     },
     "execution_count": 12,
     "metadata": {},
     "output_type": "execute_result"
    }
   ],
   "source": [
    "tensor.ndim"
   ]
  },
  {
   "cell_type": "markdown",
   "id": "dcefa60a-38c3-44e6-9422-8432d5c7ef51",
   "metadata": {},
   "source": [
    "![alt text](https://raw.githubusercontent.com/mrdbourke/tensorflow-deep-learning/main/images/00-scalar-vector-matrix-tensor.png)"
   ]
  },
  {
   "cell_type": "markdown",
   "id": "e8f383a0-48bf-491d-9ccf-d06827a1eb49",
   "metadata": {
    "tags": []
   },
   "source": [
    "# Changeable Tensors `tf.Variable()`"
   ]
  },
  {
   "cell_type": "code",
   "execution_count": 13,
   "id": "39be7b1b-69bc-4ead-9ce0-03d768c81a58",
   "metadata": {},
   "outputs": [
    {
     "data": {
      "text/plain": [
       "(<tf.Variable 'Variable:0' shape=(2,) dtype=int32, numpy=array([10,  7], dtype=int32)>,\n",
       " <tf.Tensor: shape=(2,), dtype=int32, numpy=array([10,  7], dtype=int32)>)"
      ]
     },
     "execution_count": 13,
     "metadata": {},
     "output_type": "execute_result"
    }
   ],
   "source": [
    "changeable_tensor = tf.Variable([10,7])\n",
    "unchangeable_tensor = tf.constant([10,7])\n",
    "changeable_tensor,unchangeable_tensor"
   ]
  },
  {
   "cell_type": "code",
   "execution_count": 14,
   "id": "4b2ce0b4-9c2f-4dcd-9a80-7a6b6cc97bcb",
   "metadata": {},
   "outputs": [],
   "source": [
    "# Will Show Error\n",
    "#changeable_tensor[0] = 7\n",
    "#changeable_tensor"
   ]
  },
  {
   "cell_type": "code",
   "execution_count": 15,
   "id": "68cfc325-3577-4bfe-96a5-7b9a9c8045f1",
   "metadata": {},
   "outputs": [
    {
     "data": {
      "text/plain": [
       "<tf.Variable 'Variable:0' shape=(2,) dtype=int32, numpy=array([7, 7], dtype=int32)>"
      ]
     },
     "execution_count": 15,
     "metadata": {},
     "output_type": "execute_result"
    }
   ],
   "source": [
    "changeable_tensor[0].assign(7)\n",
    "changeable_tensor"
   ]
  },
  {
   "cell_type": "markdown",
   "id": "65e73191-7394-4fee-a841-85f092cb1581",
   "metadata": {
    "tags": []
   },
   "source": [
    "# Creating Random Tensors"
   ]
  },
  {
   "cell_type": "code",
   "execution_count": 16,
   "id": "b6c67586-6847-437e-9dc6-ed7c70fe7507",
   "metadata": {},
   "outputs": [
    {
     "data": {
      "text/plain": [
       "(<tf.Tensor: shape=(3, 2), dtype=float32, numpy=\n",
       " array([[-0.7565803 , -0.06854702],\n",
       "        [ 0.07595026, -1.2573844 ],\n",
       "        [-0.23193765, -1.8107855 ]], dtype=float32)>,\n",
       " <tf.Tensor: shape=(3, 2), dtype=float32, numpy=\n",
       " array([[-0.7565803 , -0.06854702],\n",
       "        [ 0.07595026, -1.2573844 ],\n",
       "        [-0.23193765, -1.8107855 ]], dtype=float32)>)"
      ]
     },
     "execution_count": 16,
     "metadata": {},
     "output_type": "execute_result"
    }
   ],
   "source": [
    "random_1 = tf.random.Generator.from_seed(42)\n",
    "random_1 = random_1.normal(shape=(3,2)) # Creating Tensors from Normal Distribution\n",
    "\n",
    "random_2 = tf.random.Generator.from_seed(42)\n",
    "random_2 = random_2.normal(shape=(3,2))\n",
    "\n",
    "random_1,random_2"
   ]
  },
  {
   "cell_type": "markdown",
   "id": "c25c9ca4-e6de-419e-84b9-516d12bb5d09",
   "metadata": {
    "tags": []
   },
   "source": [
    "# Other ways to make Tensors"
   ]
  },
  {
   "cell_type": "code",
   "execution_count": 17,
   "id": "e0d3c8d4-40e6-44f7-b7b8-abb07a5f5868",
   "metadata": {},
   "outputs": [
    {
     "data": {
      "text/plain": [
       "<tf.Tensor: shape=(3, 2), dtype=float32, numpy=\n",
       "array([[1., 1.],\n",
       "       [1., 1.],\n",
       "       [1., 1.]], dtype=float32)>"
      ]
     },
     "execution_count": 17,
     "metadata": {},
     "output_type": "execute_result"
    }
   ],
   "source": [
    "tf.ones(shape=(3,2))"
   ]
  },
  {
   "cell_type": "code",
   "execution_count": 18,
   "id": "9b27b752-8425-4bae-a55b-ccb68315fcef",
   "metadata": {},
   "outputs": [
    {
     "data": {
      "text/plain": [
       "<tf.Tensor: shape=(3, 2), dtype=int64, numpy=\n",
       "array([[0, 0],\n",
       "       [0, 0],\n",
       "       [0, 0]])>"
      ]
     },
     "execution_count": 18,
     "metadata": {},
     "output_type": "execute_result"
    }
   ],
   "source": [
    "tf.zeros(shape=(3,2),dtype = tf.int64)"
   ]
  },
  {
   "cell_type": "markdown",
   "id": "9dca4df8-591c-4360-9ea1-31bfb5da1118",
   "metadata": {
    "tags": []
   },
   "source": [
    "## Converting Numpy Array to Tensors"
   ]
  },
  {
   "cell_type": "code",
   "execution_count": 19,
   "id": "1cfd73fb-3e51-45ff-aaf5-b7c736d006b3",
   "metadata": {},
   "outputs": [
    {
     "data": {
      "text/plain": [
       "(array([ 1,  2,  3,  4,  5,  6,  7,  8,  9, 10, 11, 12, 13, 14, 15, 16, 17,\n",
       "        18, 19, 20, 21, 22, 23, 24], dtype=int32),\n",
       " <tf.Tensor: shape=(2, 4, 3), dtype=int32, numpy=\n",
       " array([[[ 1,  2,  3],\n",
       "         [ 4,  5,  6],\n",
       "         [ 7,  8,  9],\n",
       "         [10, 11, 12]],\n",
       " \n",
       "        [[13, 14, 15],\n",
       "         [16, 17, 18],\n",
       "         [19, 20, 21],\n",
       "         [22, 23, 24]]], dtype=int32)>)"
      ]
     },
     "execution_count": 19,
     "metadata": {},
     "output_type": "execute_result"
    }
   ],
   "source": [
    "import numpy as np\n",
    "numpy_array = np.arange(1,25,dtype = np.int32) # Numpy Array Between 1 and 25\n",
    "tensor_A = tf.constant(numpy_array,shape = [2,4,3])\n",
    "numpy_array, tensor_A"
   ]
  },
  {
   "cell_type": "markdown",
   "id": "f7e4cedf-fd42-4b03-95c3-ad557987a78f",
   "metadata": {
    "tags": []
   },
   "source": [
    "# Getting Information from Tensors"
   ]
  },
  {
   "cell_type": "code",
   "execution_count": 20,
   "id": "7d58bded-059e-4810-81ef-49424418fac1",
   "metadata": {},
   "outputs": [
    {
     "data": {
      "text/plain": [
       "<tf.Tensor: shape=(2, 3, 4, 5), dtype=float32, numpy=\n",
       "array([[[[0., 0., 0., 0., 0.],\n",
       "         [0., 0., 0., 0., 0.],\n",
       "         [0., 0., 0., 0., 0.],\n",
       "         [0., 0., 0., 0., 0.]],\n",
       "\n",
       "        [[0., 0., 0., 0., 0.],\n",
       "         [0., 0., 0., 0., 0.],\n",
       "         [0., 0., 0., 0., 0.],\n",
       "         [0., 0., 0., 0., 0.]],\n",
       "\n",
       "        [[0., 0., 0., 0., 0.],\n",
       "         [0., 0., 0., 0., 0.],\n",
       "         [0., 0., 0., 0., 0.],\n",
       "         [0., 0., 0., 0., 0.]]],\n",
       "\n",
       "\n",
       "       [[[0., 0., 0., 0., 0.],\n",
       "         [0., 0., 0., 0., 0.],\n",
       "         [0., 0., 0., 0., 0.],\n",
       "         [0., 0., 0., 0., 0.]],\n",
       "\n",
       "        [[0., 0., 0., 0., 0.],\n",
       "         [0., 0., 0., 0., 0.],\n",
       "         [0., 0., 0., 0., 0.],\n",
       "         [0., 0., 0., 0., 0.]],\n",
       "\n",
       "        [[0., 0., 0., 0., 0.],\n",
       "         [0., 0., 0., 0., 0.],\n",
       "         [0., 0., 0., 0., 0.],\n",
       "         [0., 0., 0., 0., 0.]]]], dtype=float32)>"
      ]
     },
     "execution_count": 20,
     "metadata": {},
     "output_type": "execute_result"
    }
   ],
   "source": [
    "rank4_tensor = tf.zeros(shape = (2,3,4,5))\n",
    "rank4_tensor"
   ]
  },
  {
   "cell_type": "code",
   "execution_count": 21,
   "id": "de63c2df-052f-4fe2-a81a-ee29c05ce8b3",
   "metadata": {},
   "outputs": [
    {
     "data": {
      "text/plain": [
       "TensorShape([2, 3, 4, 5])"
      ]
     },
     "execution_count": 21,
     "metadata": {},
     "output_type": "execute_result"
    }
   ],
   "source": [
    "rank4_tensor.shape"
   ]
  },
  {
   "cell_type": "code",
   "execution_count": 22,
   "id": "2242a0ed-bb59-40d0-b895-151f5aaebb28",
   "metadata": {},
   "outputs": [
    {
     "data": {
      "text/plain": [
       "4"
      ]
     },
     "execution_count": 22,
     "metadata": {},
     "output_type": "execute_result"
    }
   ],
   "source": [
    "rank4_tensor.ndim"
   ]
  },
  {
   "cell_type": "code",
   "execution_count": 23,
   "id": "5b81136f-b6b5-403d-ac96-db5f74d58b94",
   "metadata": {},
   "outputs": [
    {
     "data": {
      "text/plain": [
       "<tf.Tensor: shape=(), dtype=int32, numpy=120>"
      ]
     },
     "execution_count": 23,
     "metadata": {},
     "output_type": "execute_result"
    }
   ],
   "source": [
    "tf.size(rank4_tensor)"
   ]
  },
  {
   "cell_type": "markdown",
   "id": "4d7fceef-278a-47b9-8b17-ea2c64872edc",
   "metadata": {
    "tags": []
   },
   "source": [
    "#### You can also index tensors just like Python Lists"
   ]
  },
  {
   "cell_type": "code",
   "execution_count": 24,
   "id": "91aab2bb-3fce-4477-9118-9c510d530fc7",
   "metadata": {},
   "outputs": [
    {
     "data": {
      "text/plain": [
       "<tf.Tensor: shape=(2, 2, 2, 2), dtype=float32, numpy=\n",
       "array([[[[0., 0.],\n",
       "         [0., 0.]],\n",
       "\n",
       "        [[0., 0.],\n",
       "         [0., 0.]]],\n",
       "\n",
       "\n",
       "       [[[0., 0.],\n",
       "         [0., 0.]],\n",
       "\n",
       "        [[0., 0.],\n",
       "         [0., 0.]]]], dtype=float32)>"
      ]
     },
     "execution_count": 24,
     "metadata": {},
     "output_type": "execute_result"
    }
   ],
   "source": [
    "rank4_tensor[:2,:2,:2,:2]"
   ]
  },
  {
   "cell_type": "code",
   "execution_count": 25,
   "id": "d2ba7d0c-aa43-4cc4-b2ac-e908c2c24551",
   "metadata": {},
   "outputs": [
    {
     "data": {
      "text/plain": [
       "<tf.Tensor: shape=(1, 1, 1, 1), dtype=float32, numpy=array([[[[0.]]]], dtype=float32)>"
      ]
     },
     "execution_count": 25,
     "metadata": {},
     "output_type": "execute_result"
    }
   ],
   "source": [
    "rank4_tensor[:1,:1,:1,:1]"
   ]
  },
  {
   "cell_type": "code",
   "execution_count": 26,
   "id": "cdc34ea5-a9d0-4abf-a92e-79a2437ddd66",
   "metadata": {},
   "outputs": [
    {
     "data": {
      "text/plain": [
       "<tf.Tensor: shape=(2,), dtype=int32, numpy=array([7, 4], dtype=int32)>"
      ]
     },
     "execution_count": 26,
     "metadata": {},
     "output_type": "execute_result"
    }
   ],
   "source": [
    "rank_2_tensor = tf.constant([[10, 7],\n",
    "                             [3, 4]])\n",
    "rank_2_tensor[:, -1]"
   ]
  },
  {
   "cell_type": "markdown",
   "id": "fd26ccf6-389a-46c4-bfa0-b0f9a7a2625c",
   "metadata": {
    "tags": []
   },
   "source": [
    "# Manipulating Tensors"
   ]
  },
  {
   "cell_type": "markdown",
   "id": "c129e177-69cf-4de0-9a83-a4f2805372c7",
   "metadata": {
    "tags": []
   },
   "source": [
    "### Basic Operations"
   ]
  },
  {
   "cell_type": "code",
   "execution_count": 27,
   "id": "8ac36303-3420-49ff-a413-15a52bca0a91",
   "metadata": {},
   "outputs": [
    {
     "data": {
      "text/plain": [
       "<tf.Tensor: shape=(2, 2), dtype=int32, numpy=\n",
       "array([[20, 17],\n",
       "       [13, 14]], dtype=int32)>"
      ]
     },
     "execution_count": 27,
     "metadata": {},
     "output_type": "execute_result"
    }
   ],
   "source": [
    "tensor = tf.constant([[10,7],[3,4]])\n",
    "tensor + 10"
   ]
  },
  {
   "cell_type": "code",
   "execution_count": 28,
   "id": "e6ae5a2f-8152-4bc9-b093-884ffde767bb",
   "metadata": {},
   "outputs": [
    {
     "data": {
      "text/plain": [
       "<tf.Tensor: shape=(2, 2), dtype=int32, numpy=\n",
       "array([[10,  7],\n",
       "       [ 3,  4]], dtype=int32)>"
      ]
     },
     "execution_count": 28,
     "metadata": {},
     "output_type": "execute_result"
    }
   ],
   "source": [
    "tensor"
   ]
  },
  {
   "cell_type": "code",
   "execution_count": 29,
   "id": "9d5a87b5-429a-47ad-8bd6-0b06cf7a45e3",
   "metadata": {},
   "outputs": [
    {
     "data": {
      "text/plain": [
       "<tf.Tensor: shape=(2, 2), dtype=int32, numpy=\n",
       "array([[110,  77],\n",
       "       [ 33,  44]], dtype=int32)>"
      ]
     },
     "execution_count": 29,
     "metadata": {},
     "output_type": "execute_result"
    }
   ],
   "source": [
    "tensor * 11"
   ]
  },
  {
   "cell_type": "code",
   "execution_count": 30,
   "id": "09201aca-4f97-46aa-b386-6abbc0db793a",
   "metadata": {},
   "outputs": [
    {
     "data": {
      "text/plain": [
       "<tf.Tensor: shape=(2, 2), dtype=int32, numpy=\n",
       "array([[100,  70],\n",
       "       [ 30,  40]], dtype=int32)>"
      ]
     },
     "execution_count": 30,
     "metadata": {},
     "output_type": "execute_result"
    }
   ],
   "source": [
    "# Another Method\n",
    "tf.multiply(tensor, 10)"
   ]
  },
  {
   "cell_type": "code",
   "execution_count": 31,
   "id": "f7f7bbb0-0245-479f-8f97-db9c00d0913a",
   "metadata": {},
   "outputs": [
    {
     "data": {
      "text/plain": [
       "<tf.Tensor: shape=(2, 2), dtype=int32, numpy=\n",
       "array([[10,  7],\n",
       "       [ 3,  4]], dtype=int32)>"
      ]
     },
     "execution_count": 31,
     "metadata": {},
     "output_type": "execute_result"
    }
   ],
   "source": [
    "tensor"
   ]
  },
  {
   "cell_type": "code",
   "execution_count": 32,
   "id": "d7734ac2-1b0e-4e58-906c-c7cf147d8c99",
   "metadata": {},
   "outputs": [
    {
     "data": {
      "text/plain": [
       "<tf.Tensor: shape=(2, 2), dtype=int32, numpy=\n",
       "array([[121,  98],\n",
       "       [ 42,  37]], dtype=int32)>"
      ]
     },
     "execution_count": 32,
     "metadata": {},
     "output_type": "execute_result"
    }
   ],
   "source": [
    "# Matix Multiplication\n",
    "tf.matmul(tensor, tensor)"
   ]
  },
  {
   "cell_type": "code",
   "execution_count": 33,
   "id": "415fee7f-90f3-4783-96d7-9854f72f5a44",
   "metadata": {},
   "outputs": [
    {
     "data": {
      "text/plain": [
       "<tf.Tensor: shape=(2, 2), dtype=int32, numpy=\n",
       "array([[121,  98],\n",
       "       [ 42,  37]], dtype=int32)>"
      ]
     },
     "execution_count": 33,
     "metadata": {},
     "output_type": "execute_result"
    }
   ],
   "source": [
    "# Also can use this\n",
    "tensor @ tensor"
   ]
  },
  {
   "cell_type": "markdown",
   "id": "055c12c6-ce4a-411a-b1c0-9abce3825b54",
   "metadata": {
    "tags": []
   },
   "source": [
    "# Changing datatype of Tensors"
   ]
  },
  {
   "cell_type": "code",
   "execution_count": 34,
   "id": "7b179c43-e0fe-4eb4-a571-43a970c02235",
   "metadata": {},
   "outputs": [
    {
     "data": {
      "text/plain": [
       "(<tf.Tensor: shape=(2,), dtype=float32, numpy=array([1.7, 7.4], dtype=float32)>,\n",
       " <tf.Tensor: shape=(2,), dtype=int32, numpy=array([1, 7], dtype=int32)>)"
      ]
     },
     "execution_count": 34,
     "metadata": {},
     "output_type": "execute_result"
    }
   ],
   "source": [
    "B = tf.constant([1.7,7.4])\n",
    "C = tf.constant([1,7])\n",
    "B,C"
   ]
  },
  {
   "cell_type": "code",
   "execution_count": 35,
   "id": "518cace9-f65b-4004-943d-88a197d9eb66",
   "metadata": {},
   "outputs": [
    {
     "data": {
      "text/plain": [
       "<tf.Tensor: shape=(2,), dtype=float16, numpy=array([1.7, 7.4], dtype=float16)>"
      ]
     },
     "execution_count": 35,
     "metadata": {},
     "output_type": "execute_result"
    }
   ],
   "source": [
    "B = tf.cast(B, dtype = tf.float16)\n",
    "B"
   ]
  },
  {
   "cell_type": "code",
   "execution_count": 36,
   "id": "419c568f-093a-45c0-90d7-e25eb3f8469b",
   "metadata": {},
   "outputs": [
    {
     "data": {
      "text/plain": [
       "<tf.Tensor: shape=(2,), dtype=float16, numpy=array([1., 7.], dtype=float16)>"
      ]
     },
     "execution_count": 36,
     "metadata": {},
     "output_type": "execute_result"
    }
   ],
   "source": [
    "C = tf.cast(C, dtype = tf.float16)\n",
    "C"
   ]
  },
  {
   "cell_type": "markdown",
   "id": "6b6cd4ac-543d-41cd-b74b-b2345e938f41",
   "metadata": {
    "tags": []
   },
   "source": [
    "#  Finding the min, max, mean, sum"
   ]
  },
  {
   "cell_type": "code",
   "execution_count": 37,
   "id": "e54566bb-a512-4482-8af0-06d5dd147e22",
   "metadata": {},
   "outputs": [
    {
     "data": {
      "text/plain": [
       "<tf.Tensor: shape=(50,), dtype=int64, numpy=\n",
       "array([65, 65, 52, 33, 24,  4, 87, 45, 78, 45, 51, 61, 13, 89, 74, 97, 89,\n",
       "       21, 86, 15, 51, 62, 35, 45,  4, 78, 58, 32, 34, 20, 54, 27, 32, 39,\n",
       "        0, 77, 20, 81, 71, 18, 11, 59, 90, 89, 38,  0, 75, 32, 62, 34])>"
      ]
     },
     "execution_count": 37,
     "metadata": {},
     "output_type": "execute_result"
    }
   ],
   "source": [
    "E = tf.constant(np.random.randint(low = 0, high = 100, size = 50))\n",
    "E"
   ]
  },
  {
   "cell_type": "code",
   "execution_count": 38,
   "id": "216f0132-bf2c-4de0-ad9a-62ad9d34cff8",
   "metadata": {},
   "outputs": [
    {
     "data": {
      "text/plain": [
       "<tf.Tensor: shape=(), dtype=int64, numpy=0>"
      ]
     },
     "execution_count": 38,
     "metadata": {},
     "output_type": "execute_result"
    }
   ],
   "source": [
    "tf.reduce_min(E) "
   ]
  },
  {
   "cell_type": "code",
   "execution_count": 39,
   "id": "d4c3ae35-eded-4574-ac02-f206b18992fb",
   "metadata": {},
   "outputs": [
    {
     "data": {
      "text/plain": [
       "<tf.Tensor: shape=(), dtype=int64, numpy=97>"
      ]
     },
     "execution_count": 39,
     "metadata": {},
     "output_type": "execute_result"
    }
   ],
   "source": [
    "tf.reduce_max(E)"
   ]
  },
  {
   "cell_type": "code",
   "execution_count": 40,
   "id": "f62b8763-07e6-4b27-9128-a418b19e876f",
   "metadata": {},
   "outputs": [
    {
     "data": {
      "text/plain": [
       "<tf.Tensor: shape=(), dtype=int64, numpy=48>"
      ]
     },
     "execution_count": 40,
     "metadata": {},
     "output_type": "execute_result"
    }
   ],
   "source": [
    "tf.reduce_mean(E)"
   ]
  },
  {
   "cell_type": "code",
   "execution_count": 41,
   "id": "b7cc2b31-999a-4ced-9654-3b95a806d656",
   "metadata": {},
   "outputs": [
    {
     "data": {
      "text/plain": [
       "<tf.Tensor: shape=(), dtype=int64, numpy=2422>"
      ]
     },
     "execution_count": 41,
     "metadata": {},
     "output_type": "execute_result"
    }
   ],
   "source": [
    "tf.reduce_sum(E)"
   ]
  },
  {
   "cell_type": "code",
   "execution_count": 42,
   "id": "50914670-5a83-4258-bf98-dd377a72e12e",
   "metadata": {},
   "outputs": [
    {
     "name": "stdout",
     "output_type": "stream",
     "text": [
      "tf.Tensor(15, shape=(), dtype=int64)\n",
      "tf.Tensor(34, shape=(), dtype=int64)\n"
     ]
    }
   ],
   "source": [
    "# Find the maximum element Position\n",
    "print(tf.argmax(E))\n",
    "# Find the Position of Minimum Element\n",
    "print(tf.argmin(E))"
   ]
  },
  {
   "cell_type": "code",
   "execution_count": 43,
   "id": "a6bc5d04-5244-4e26-9fb1-3281a9948fdc",
   "metadata": {},
   "outputs": [
    {
     "name": "stdout",
     "output_type": "stream",
     "text": [
      "The maximum value of E is at position: 15\n",
      "The maximum value of E is: 97\n",
      "Using tf.argmax() to index E, the maximum value of E is: 97\n",
      "Are the two max values the same (they should be)? True\n"
     ]
    }
   ],
   "source": [
    "print(f\"The maximum value of E is at position: {tf.argmax(E).numpy()}\") \n",
    "print(f\"The maximum value of E is: {tf.reduce_max(E).numpy()}\") \n",
    "print(f\"Using tf.argmax() to index E, the maximum value of E is: {E[tf.argmax(E)].numpy()}\")\n",
    "print(f\"Are the two max values the same (they should be)? {E[tf.argmax(E)].numpy() == tf.reduce_max(E).numpy()}\")"
   ]
  },
  {
   "cell_type": "markdown",
   "id": "ba577d85-ee0e-40e7-8871-ad3b6a9112b8",
   "metadata": {},
   "source": [
    "# Squeezing a tensor"
   ]
  },
  {
   "cell_type": "code",
   "execution_count": 44,
   "id": "ceef36b8-8729-4c6b-83a9-293570735f08",
   "metadata": {},
   "outputs": [
    {
     "data": {
      "text/plain": [
       "(TensorShape([1, 1, 1, 1, 50]), 5)"
      ]
     },
     "execution_count": 44,
     "metadata": {},
     "output_type": "execute_result"
    }
   ],
   "source": [
    "# Creating a rank 5 (5 dimension) tensor of 50 numbers between 0 and 100\n",
    "G = tf.constant(np.random.randint(0,100,50),shape = (1,1,1,1,50))\n",
    "G.shape, G.ndim"
   ]
  },
  {
   "cell_type": "code",
   "execution_count": 45,
   "id": "2b99d9a1-119e-4789-87e7-9e779cd59c24",
   "metadata": {},
   "outputs": [
    {
     "data": {
      "text/plain": [
       "(TensorShape([50]), 1)"
      ]
     },
     "execution_count": 45,
     "metadata": {},
     "output_type": "execute_result"
    }
   ],
   "source": [
    "G_squeezed = tf.squeeze(G)\n",
    "G_squeezed.shape, G_squeezed.ndim"
   ]
  },
  {
   "cell_type": "markdown",
   "id": "37dbb35d-c525-4ef4-8cd2-3fbed30ab112",
   "metadata": {},
   "source": [
    "# One-Hot Encoding"
   ]
  },
  {
   "cell_type": "code",
   "execution_count": 46,
   "id": "18862661-b38a-446a-9894-06c2a166fe29",
   "metadata": {},
   "outputs": [
    {
     "data": {
      "text/plain": [
       "<tf.Tensor: shape=(4, 4), dtype=float32, numpy=\n",
       "array([[1., 0., 0., 0.],\n",
       "       [0., 1., 0., 0.],\n",
       "       [0., 0., 1., 0.],\n",
       "       [0., 0., 0., 1.]], dtype=float32)>"
      ]
     },
     "execution_count": 46,
     "metadata": {},
     "output_type": "execute_result"
    }
   ],
   "source": [
    "some_list = [0,1,2,3]\n",
    "\n",
    "# One hot encode them\n",
    "tf.one_hot(some_list,depth = 4)"
   ]
  },
  {
   "cell_type": "code",
   "execution_count": 47,
   "id": "c0d7a4be-1d4b-43b4-b12c-bad1ee5a8408",
   "metadata": {},
   "outputs": [
    {
     "data": {
      "text/plain": [
       "<tf.Tensor: shape=(4, 4), dtype=string, numpy=\n",
       "array([[b\"We'r live !\", b'offline', b'offline', b'offline'],\n",
       "       [b'offline', b\"We'r live !\", b'offline', b'offline'],\n",
       "       [b'offline', b'offline', b\"We'r live !\", b'offline'],\n",
       "       [b'offline', b'offline', b'offline', b\"We'r live !\"]], dtype=object)>"
      ]
     },
     "execution_count": 47,
     "metadata": {},
     "output_type": "execute_result"
    }
   ],
   "source": [
    "tf.one_hot(some_list, depth=4, on_value=\"We'r live !\", off_value = \"offline\")"
   ]
  },
  {
   "cell_type": "markdown",
   "id": "fb1cfe1a-666a-4508-8264-6dd1cc1b58cd",
   "metadata": {},
   "source": [
    "# Squaring, log, square root"
   ]
  },
  {
   "cell_type": "code",
   "execution_count": 48,
   "id": "9e17998e-1c1f-4c68-9319-a8921ee1a249",
   "metadata": {},
   "outputs": [
    {
     "data": {
      "text/plain": [
       "<tf.Tensor: shape=(9,), dtype=int64, numpy=array([1, 2, 3, 4, 5, 6, 7, 8, 9])>"
      ]
     },
     "execution_count": 48,
     "metadata": {},
     "output_type": "execute_result"
    }
   ],
   "source": [
    "H = tf.constant(np.arange(1,10))\n",
    "H"
   ]
  },
  {
   "cell_type": "code",
   "execution_count": 49,
   "id": "9323f771-d896-40fb-89ae-b52b85441336",
   "metadata": {},
   "outputs": [
    {
     "data": {
      "text/plain": [
       "<tf.Tensor: shape=(9,), dtype=int64, numpy=array([ 1,  4,  9, 16, 25, 36, 49, 64, 81])>"
      ]
     },
     "execution_count": 49,
     "metadata": {},
     "output_type": "execute_result"
    }
   ],
   "source": [
    "tf.square(H)"
   ]
  },
  {
   "cell_type": "code",
   "execution_count": 50,
   "id": "1fe2b93f-4a6e-4f40-a0e8-731f61161f97",
   "metadata": {},
   "outputs": [
    {
     "data": {
      "text/plain": [
       "<tf.Tensor: shape=(9,), dtype=float32, numpy=array([1., 2., 3., 4., 5., 6., 7., 8., 9.], dtype=float32)>"
      ]
     },
     "execution_count": 50,
     "metadata": {},
     "output_type": "execute_result"
    }
   ],
   "source": [
    "H = tf.cast(H, dtype = tf.float32)\n",
    "H"
   ]
  },
  {
   "cell_type": "code",
   "execution_count": 51,
   "id": "b5a3651b-bd9b-499f-8ea0-6d302d592c95",
   "metadata": {},
   "outputs": [
    {
     "data": {
      "text/plain": [
       "<tf.Tensor: shape=(9,), dtype=float32, numpy=\n",
       "array([1.       , 1.4142135, 1.7320508, 2.       , 2.2360678, 2.4494896,\n",
       "       2.6457512, 2.828427 , 3.       ], dtype=float32)>"
      ]
     },
     "execution_count": 51,
     "metadata": {},
     "output_type": "execute_result"
    }
   ],
   "source": [
    "tf.sqrt(H)"
   ]
  },
  {
   "cell_type": "code",
   "execution_count": 52,
   "id": "ffb77334-406a-43b3-ac17-e5694dca5cd0",
   "metadata": {},
   "outputs": [
    {
     "data": {
      "text/plain": [
       "<tf.Tensor: shape=(9,), dtype=float32, numpy=\n",
       "array([0.       , 0.6931472, 1.0986123, 1.3862944, 1.609438 , 1.7917595,\n",
       "       1.9459102, 2.0794415, 2.1972246], dtype=float32)>"
      ]
     },
     "execution_count": 52,
     "metadata": {},
     "output_type": "execute_result"
    }
   ],
   "source": [
    "tf.math.log(H)"
   ]
  },
  {
   "cell_type": "markdown",
   "id": "78da760b-79cf-47a4-894a-f5238d7d1037",
   "metadata": {},
   "source": [
    "# Manupulating `tf.Variable` tensors"
   ]
  },
  {
   "cell_type": "code",
   "execution_count": 53,
   "id": "5efc3202-e698-43f4-9975-867f019d601b",
   "metadata": {},
   "outputs": [
    {
     "data": {
      "text/plain": [
       "<tf.Variable 'Variable:0' shape=(5,) dtype=int64, numpy=array([0, 1, 2, 3, 4])>"
      ]
     },
     "execution_count": 53,
     "metadata": {},
     "output_type": "execute_result"
    }
   ],
   "source": [
    "I = tf.Variable(np.arange(0,5))\n",
    "I"
   ]
  },
  {
   "cell_type": "code",
   "execution_count": 54,
   "id": "928a719e-93fb-4069-b8e4-e869071549ce",
   "metadata": {},
   "outputs": [
    {
     "data": {
      "text/plain": [
       "<tf.Variable 'UnreadVariable' shape=(5,) dtype=int64, numpy=array([ 0,  1,  2,  3, 50])>"
      ]
     },
     "execution_count": 54,
     "metadata": {},
     "output_type": "execute_result"
    }
   ],
   "source": [
    "I.assign([0,1,2,3,50])"
   ]
  },
  {
   "cell_type": "code",
   "execution_count": 55,
   "id": "a13c5071-8436-4763-8d3c-e6f11d6c9b8d",
   "metadata": {},
   "outputs": [
    {
     "data": {
      "text/plain": [
       "<tf.Variable 'Variable:0' shape=(5,) dtype=int64, numpy=array([ 0,  1,  2,  3, 50])>"
      ]
     },
     "execution_count": 55,
     "metadata": {},
     "output_type": "execute_result"
    }
   ],
   "source": [
    "I"
   ]
  },
  {
   "cell_type": "markdown",
   "id": "320d0587-3f22-4467-a78a-ba6f953031f3",
   "metadata": {},
   "source": [
    "# Tensors and Numpy"
   ]
  },
  {
   "cell_type": "code",
   "execution_count": 57,
   "id": "f90d5e87-47e7-40dc-9500-f5d460547a4d",
   "metadata": {},
   "outputs": [
    {
     "data": {
      "text/plain": [
       "<tf.Tensor: shape=(3,), dtype=float64, numpy=array([ 3.,  7., 10.])>"
      ]
     },
     "execution_count": 57,
     "metadata": {},
     "output_type": "execute_result"
    }
   ],
   "source": [
    "J = tf.constant(np.array([3.0,7.0,10.0]))\n",
    "J"
   ]
  },
  {
   "cell_type": "code",
   "execution_count": 59,
   "id": "d6b4cb99-3486-44e1-9831-418c9a17c972",
   "metadata": {},
   "outputs": [
    {
     "data": {
      "text/plain": [
       "(array([ 3.,  7., 10.]), numpy.ndarray)"
      ]
     },
     "execution_count": 59,
     "metadata": {},
     "output_type": "execute_result"
    }
   ],
   "source": [
    "# Convert Tensors to Numpy\n",
    "np.array(J), type(np.array(J))"
   ]
  },
  {
   "cell_type": "code",
   "execution_count": 60,
   "id": "2e3434c1-230a-4bb0-a806-dc1969498a52",
   "metadata": {},
   "outputs": [
    {
     "data": {
      "text/plain": [
       "(array([ 3.,  7., 10.]), numpy.ndarray)"
      ]
     },
     "execution_count": 60,
     "metadata": {},
     "output_type": "execute_result"
    }
   ],
   "source": [
    "# Convert tensors J to numpy with .numpynumpy_array\n",
    "J.numpy(), type(J.numpy())"
   ]
  },
  {
   "cell_type": "markdown",
   "id": "540add8b-0131-4021-8f62-5682faa3d09d",
   "metadata": {},
   "source": [
    "# Using `@tf.function`"
   ]
  },
  {
   "cell_type": "code",
   "execution_count": 64,
   "id": "1b8c446d-235f-4b7b-9daa-765392787bd1",
   "metadata": {},
   "outputs": [
    {
     "data": {
      "text/plain": [
       "<tf.Tensor: shape=(10,), dtype=int64, numpy=array([ 10,  12,  16,  22,  30,  40,  52,  66,  82, 100])>"
      ]
     },
     "execution_count": 64,
     "metadata": {},
     "output_type": "execute_result"
    }
   ],
   "source": [
    "# Creating a Simple Function\n",
    "\n",
    "def function(x,y):\n",
    "    return x**2 + y\n",
    "\n",
    "x = tf.constant(np.arange(0,10))\n",
    "y = tf.constant(np.arange(10,20))\n",
    "function(x,y)"
   ]
  },
  {
   "cell_type": "code",
   "execution_count": 65,
   "id": "e7d390a1-de07-42d2-8a65-14bc197394c3",
   "metadata": {},
   "outputs": [
    {
     "data": {
      "text/plain": [
       "<tf.Tensor: shape=(10,), dtype=int64, numpy=array([ 10,  12,  16,  22,  30,  40,  52,  66,  82, 100])>"
      ]
     },
     "execution_count": 65,
     "metadata": {},
     "output_type": "execute_result"
    }
   ],
   "source": [
    "# Creating same function and decorate it with tf.function\n",
    "\n",
    "@tf.function\n",
    "def tf_function(x,y):\n",
    "    return x**2 + y \n",
    "tf_function(x,y)"
   ]
  },
  {
   "cell_type": "markdown",
   "id": "9dc14f7c-7545-4c0c-ad30-0fad4c1f9de3",
   "metadata": {},
   "source": [
    "If you noticed no difference between the above two functions (the decorated one and the non-decorated one) you'd be right.\n",
    "\n",
    "Much of the difference happens behind the scenes. One of the main ones being potential code speed-ups where possible."
   ]
  },
  {
   "cell_type": "markdown",
   "id": "d65cd5c7-d7ed-4841-adee-ff1572a53fec",
   "metadata": {},
   "source": [
    "# Finding access to GPUs"
   ]
  },
  {
   "cell_type": "code",
   "execution_count": 66,
   "id": "f9013e4a-60ba-4751-aba8-f88f1ba8c43e",
   "metadata": {},
   "outputs": [
    {
     "name": "stdout",
     "output_type": "stream",
     "text": [
      "[PhysicalDevice(name='/physical_device:GPU:0', device_type='GPU')]\n"
     ]
    }
   ],
   "source": [
    "print(tf.config.list_physical_devices(\"GPU\"))"
   ]
  },
  {
   "cell_type": "code",
   "execution_count": 67,
   "id": "a1807024-9a9d-4dda-b77b-2663f457e66e",
   "metadata": {},
   "outputs": [
    {
     "name": "stdout",
     "output_type": "stream",
     "text": [
      "Tue Mar  1 08:25:52 2022       \n",
      "+-----------------------------------------------------------------------------+\n",
      "| NVIDIA-SMI 470.57.02    Driver Version: 470.57.02    CUDA Version: 11.4     |\n",
      "|-------------------------------+----------------------+----------------------+\n",
      "| GPU  Name        Persistence-M| Bus-Id        Disp.A | Volatile Uncorr. ECC |\n",
      "| Fan  Temp  Perf  Pwr:Usage/Cap|         Memory-Usage | GPU-Util  Compute M. |\n",
      "|                               |                      |               MIG M. |\n",
      "|===============================+======================+======================|\n",
      "|   0  Tesla T4            Off  | 00000000:00:1E.0 Off |                    0 |\n",
      "| N/A   45C    P0    28W /  70W |  14060MiB / 15109MiB |      0%      Default |\n",
      "|                               |                      |                  N/A |\n",
      "+-------------------------------+----------------------+----------------------+\n",
      "                                                                               \n",
      "+-----------------------------------------------------------------------------+\n",
      "| Processes:                                                                  |\n",
      "|  GPU   GI   CI        PID   Type   Process name                  GPU Memory |\n",
      "|        ID   ID                                                   Usage      |\n",
      "|=============================================================================|\n",
      "+-----------------------------------------------------------------------------+\n"
     ]
    }
   ],
   "source": [
    "!nvidia-smi"
   ]
  }
 ],
 "metadata": {
  "kernelspec": {
   "display_name": "d2l:Python",
   "language": "python",
   "name": "conda-env-d2l-py"
  },
  "language_info": {
   "codemirror_mode": {
    "name": "ipython",
    "version": 3
   },
   "file_extension": ".py",
   "mimetype": "text/x-python",
   "name": "python",
   "nbconvert_exporter": "python",
   "pygments_lexer": "ipython3",
   "version": "3.9.10"
  },
  "toc-autonumbering": false,
  "toc-showcode": false,
  "toc-showmarkdowntxt": true,
  "toc-showtags": false
 },
 "nbformat": 4,
 "nbformat_minor": 5
}
